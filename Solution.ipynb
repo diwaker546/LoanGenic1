{
  "nbformat": 4,
  "nbformat_minor": 0,
  "metadata": {
    "colab": {
      "name": "Solution.ipynb",
      "provenance": [],
      "collapsed_sections": []
    },
    "kernelspec": {
      "display_name": "Python 3",
      "name": "python3"
    }
  },
  "cells": [
    {
      "cell_type": "code",
      "metadata": {
        "id": "6KMJiv6NPbrc"
      },
      "source": [
        "import math\n",
        "import pandas as pd\n",
        "import numpy as np\n",
        "import matplotlib.pyplot as plt\n",
        "import seaborn as sns\n",
        "from google.colab import drive\n",
        "import warnings\n",
        "warnings.filterwarnings(\"ignore\")\n",
        "import pickle\n",
        "# import miceforest as mf\n",
        "from sklearn.preprocessing import OneHotEncoder, LabelEncoder\n",
        "from sklearn.model_selection import train_test_split\n",
        "from sklearn.ensemble import RandomForestRegressor\n",
        "from sklearn.metrics import mean_squared_error"
      ],
      "execution_count": null,
      "outputs": []
    },
    {
      "cell_type": "code",
      "metadata": {
        "colab": {
          "base_uri": "https://localhost:8080/"
        },
        "id": "nbUkuQske87D",
        "outputId": "36dcc96f-f387-4533-8690-b4aa140bb6ad"
      },
      "source": [
        "pip uninstall matplotlib"
      ],
      "execution_count": null,
      "outputs": [
        {
          "output_type": "stream",
          "text": [
            "Uninstalling matplotlib-3.4.0:\n",
            "  Would remove:\n",
            "    /usr/local/lib/python3.7/dist-packages/matplotlib-3.4.0-py3.7-nspkg.pth\n",
            "    /usr/local/lib/python3.7/dist-packages/matplotlib-3.4.0.dist-info/*\n",
            "    /usr/local/lib/python3.7/dist-packages/matplotlib/*\n",
            "    /usr/local/lib/python3.7/dist-packages/mpl_toolkits/axes_grid/*\n",
            "    /usr/local/lib/python3.7/dist-packages/mpl_toolkits/axes_grid1/*\n",
            "    /usr/local/lib/python3.7/dist-packages/mpl_toolkits/axisartist/*\n",
            "    /usr/local/lib/python3.7/dist-packages/mpl_toolkits/mplot3d/*\n",
            "    /usr/local/lib/python3.7/dist-packages/mpl_toolkits/tests/*\n",
            "    /usr/local/lib/python3.7/dist-packages/pylab.py\n",
            "Proceed (y/n)? y\n",
            "  Successfully uninstalled matplotlib-3.4.0\n"
          ],
          "name": "stdout"
        }
      ]
    },
    {
      "cell_type": "code",
      "metadata": {
        "colab": {
          "base_uri": "https://localhost:8080/",
          "height": 303
        },
        "id": "CvaoQN3tfJce",
        "outputId": "30c93bae-19d8-4be8-ece5-b1ac4bee51af"
      },
      "source": [
        "pip install matplotlib==3.1.3"
      ],
      "execution_count": null,
      "outputs": [
        {
          "output_type": "stream",
          "text": [
            "Collecting matplotlib==3.1.3\n",
            "  Using cached https://files.pythonhosted.org/packages/4c/9b/35ab3469fd1509f7636a344940569ebfd33239673fd2318e80b4700a257c/matplotlib-3.1.3-cp37-cp37m-manylinux1_x86_64.whl\n",
            "Requirement already satisfied: cycler>=0.10 in /usr/local/lib/python3.7/dist-packages (from matplotlib==3.1.3) (0.10.0)\n",
            "Requirement already satisfied: pyparsing!=2.0.4,!=2.1.2,!=2.1.6,>=2.0.1 in /usr/local/lib/python3.7/dist-packages (from matplotlib==3.1.3) (2.4.7)\n",
            "Requirement already satisfied: python-dateutil>=2.1 in /usr/local/lib/python3.7/dist-packages (from matplotlib==3.1.3) (2.8.1)\n",
            "Requirement already satisfied: numpy>=1.11 in /usr/local/lib/python3.7/dist-packages (from matplotlib==3.1.3) (1.19.5)\n",
            "Requirement already satisfied: kiwisolver>=1.0.1 in /usr/local/lib/python3.7/dist-packages (from matplotlib==3.1.3) (1.3.1)\n",
            "Requirement already satisfied: six in /usr/local/lib/python3.7/dist-packages (from cycler>=0.10->matplotlib==3.1.3) (1.15.0)\n",
            "\u001b[31mERROR: miceforest 2.0.3 has requirement matplotlib>=3.3.0, but you'll have matplotlib 3.1.3 which is incompatible.\u001b[0m\n",
            "\u001b[31mERROR: albumentations 0.1.12 has requirement imgaug<0.2.7,>=0.2.5, but you'll have imgaug 0.2.9 which is incompatible.\u001b[0m\n",
            "Installing collected packages: matplotlib\n",
            "Successfully installed matplotlib-3.1.3\n"
          ],
          "name": "stdout"
        },
        {
          "output_type": "display_data",
          "data": {
            "application/vnd.colab-display-data+json": {
              "pip_warning": {
                "packages": [
                  "matplotlib",
                  "mpl_toolkits"
                ]
              }
            }
          },
          "metadata": {
            "tags": []
          }
        }
      ]
    },
    {
      "cell_type": "code",
      "metadata": {
        "id": "cCjv4KZicBmW"
      },
      "source": [
        "# python -m pip uninstall matplotlib"
      ],
      "execution_count": null,
      "outputs": []
    },
    {
      "cell_type": "code",
      "metadata": {
        "colab": {
          "base_uri": "https://localhost:8080/",
          "height": 488
        },
        "id": "Qjh-9OLgwCip",
        "outputId": "67c50022-bc41-4adc-efe1-d1d2da4695d9"
      },
      "source": [
        "pip install miceforest"
      ],
      "execution_count": null,
      "outputs": [
        {
          "output_type": "stream",
          "text": [
            "Requirement already satisfied: miceforest in /usr/local/lib/python3.7/dist-packages (2.0.3)\n",
            "Collecting matplotlib>=3.3.0\n",
            "  Using cached https://files.pythonhosted.org/packages/83/ee/8d7e0149ecf95fae7e744c5a93f51a8c9f7a96c63691d10aed6d2c1d8735/matplotlib-3.4.0-cp37-cp37m-manylinux1_x86_64.whl\n",
            "Requirement already satisfied: sklearn in /usr/local/lib/python3.7/dist-packages (from miceforest) (0.0)\n",
            "Requirement already satisfied: pandas in /usr/local/lib/python3.7/dist-packages (from miceforest) (1.1.5)\n",
            "Requirement already satisfied: numpy in /usr/local/lib/python3.7/dist-packages (from miceforest) (1.19.5)\n",
            "Requirement already satisfied: seaborn>=0.11.0 in /usr/local/lib/python3.7/dist-packages (from miceforest) (0.11.1)\n",
            "Requirement already satisfied: pillow>=6.2.0 in /usr/local/lib/python3.7/dist-packages (from matplotlib>=3.3.0->miceforest) (7.0.0)\n",
            "Requirement already satisfied: python-dateutil>=2.7 in /usr/local/lib/python3.7/dist-packages (from matplotlib>=3.3.0->miceforest) (2.8.1)\n",
            "Requirement already satisfied: cycler>=0.10 in /usr/local/lib/python3.7/dist-packages (from matplotlib>=3.3.0->miceforest) (0.10.0)\n",
            "Requirement already satisfied: pyparsing>=2.2.1 in /usr/local/lib/python3.7/dist-packages (from matplotlib>=3.3.0->miceforest) (2.4.7)\n",
            "Requirement already satisfied: kiwisolver>=1.0.1 in /usr/local/lib/python3.7/dist-packages (from matplotlib>=3.3.0->miceforest) (1.3.1)\n",
            "Requirement already satisfied: scikit-learn in /usr/local/lib/python3.7/dist-packages (from sklearn->miceforest) (0.22.2.post1)\n",
            "Requirement already satisfied: pytz>=2017.2 in /usr/local/lib/python3.7/dist-packages (from pandas->miceforest) (2018.9)\n",
            "Requirement already satisfied: scipy>=1.0 in /usr/local/lib/python3.7/dist-packages (from seaborn>=0.11.0->miceforest) (1.4.1)\n",
            "Requirement already satisfied: six>=1.5 in /usr/local/lib/python3.7/dist-packages (from python-dateutil>=2.7->matplotlib>=3.3.0->miceforest) (1.15.0)\n",
            "Requirement already satisfied: joblib>=0.11 in /usr/local/lib/python3.7/dist-packages (from scikit-learn->sklearn->miceforest) (1.0.1)\n",
            "\u001b[31mERROR: albumentations 0.1.12 has requirement imgaug<0.2.7,>=0.2.5, but you'll have imgaug 0.2.9 which is incompatible.\u001b[0m\n",
            "Installing collected packages: matplotlib\n",
            "  Found existing installation: matplotlib 3.1.3\n",
            "    Uninstalling matplotlib-3.1.3:\n",
            "      Successfully uninstalled matplotlib-3.1.3\n",
            "Successfully installed matplotlib-3.4.0\n"
          ],
          "name": "stdout"
        },
        {
          "output_type": "display_data",
          "data": {
            "application/vnd.colab-display-data+json": {
              "pip_warning": {
                "packages": [
                  "matplotlib",
                  "mpl_toolkits"
                ]
              }
            }
          },
          "metadata": {
            "tags": []
          }
        }
      ]
    },
    {
      "cell_type": "code",
      "metadata": {
        "id": "kFhzqiFFbq98"
      },
      "source": [
        "import miceforest as mf"
      ],
      "execution_count": null,
      "outputs": []
    },
    {
      "cell_type": "code",
      "metadata": {
        "colab": {
          "base_uri": "https://localhost:8080/"
        },
        "id": "zvDMPn6-P9ew",
        "outputId": "ecb0d6d3-19f0-4c03-b958-d47e1cf61f41"
      },
      "source": [
        "drive.mount('/content/drive/')"
      ],
      "execution_count": null,
      "outputs": [
        {
          "output_type": "stream",
          "text": [
            "Drive already mounted at /content/drive/; to attempt to forcibly remount, call drive.mount(\"/content/drive/\", force_remount=True).\n"
          ],
          "name": "stdout"
        }
      ]
    },
    {
      "cell_type": "code",
      "metadata": {
        "colab": {
          "base_uri": "https://localhost:8080/"
        },
        "id": "wYyiSUeAHk2r",
        "outputId": "565d55b4-8018-4d78-9eea-578ef4b5ce63"
      },
      "source": [
        "from google.colab import drive\n",
        "drive.mount('/content/drive')"
      ],
      "execution_count": null,
      "outputs": [
        {
          "output_type": "stream",
          "text": [
            "Drive already mounted at /content/drive; to attempt to forcibly remount, call drive.mount(\"/content/drive\", force_remount=True).\n"
          ],
          "name": "stdout"
        }
      ]
    },
    {
      "cell_type": "code",
      "metadata": {
        "colab": {
          "base_uri": "https://localhost:8080/"
        },
        "id": "gFExtqc4HoYI",
        "outputId": "7e5dde1b-0946-4a13-9c71-280fe3dfd8f1"
      },
      "source": [
        "%cd /content/drive/MyDrive/College Capstone Project"
      ],
      "execution_count": null,
      "outputs": [
        {
          "output_type": "stream",
          "text": [
            "/content/drive/MyDrive/College Capstone Project\n"
          ],
          "name": "stdout"
        }
      ]
    },
    {
      "cell_type": "code",
      "metadata": {
        "id": "V3Q75SlLRAc6"
      },
      "source": [
        "SchoolDF = pd.read_csv('Most-Recent-Cohorts-All-Data-Elements.csv')"
      ],
      "execution_count": null,
      "outputs": []
    },
    {
      "cell_type": "code",
      "metadata": {
        "colab": {
          "base_uri": "https://localhost:8080/",
          "height": 496
        },
        "id": "PXxRXGYaSEBP",
        "outputId": "13b88d4e-e77f-433a-95f7-d38f5cbed37c"
      },
      "source": [
        "SchoolDF.head()"
      ],
      "execution_count": null,
      "outputs": [
        {
          "output_type": "execute_result",
          "data": {
            "text/html": [
              "<div>\n",
              "<style scoped>\n",
              "    .dataframe tbody tr th:only-of-type {\n",
              "        vertical-align: middle;\n",
              "    }\n",
              "\n",
              "    .dataframe tbody tr th {\n",
              "        vertical-align: top;\n",
              "    }\n",
              "\n",
              "    .dataframe thead th {\n",
              "        text-align: right;\n",
              "    }\n",
              "</style>\n",
              "<table border=\"1\" class=\"dataframe\">\n",
              "  <thead>\n",
              "    <tr style=\"text-align: right;\">\n",
              "      <th></th>\n",
              "      <th>UNITID</th>\n",
              "      <th>OPEID</th>\n",
              "      <th>OPEID6</th>\n",
              "      <th>INSTNM</th>\n",
              "      <th>CITY</th>\n",
              "      <th>STABBR</th>\n",
              "      <th>ZIP</th>\n",
              "      <th>ACCREDAGENCY</th>\n",
              "      <th>INSTURL</th>\n",
              "      <th>NPCURL</th>\n",
              "      <th>SCH_DEG</th>\n",
              "      <th>HCM2</th>\n",
              "      <th>MAIN</th>\n",
              "      <th>NUMBRANCH</th>\n",
              "      <th>PREDDEG</th>\n",
              "      <th>HIGHDEG</th>\n",
              "      <th>CONTROL</th>\n",
              "      <th>ST_FIPS</th>\n",
              "      <th>REGION</th>\n",
              "      <th>LOCALE</th>\n",
              "      <th>LOCALE2</th>\n",
              "      <th>LATITUDE</th>\n",
              "      <th>LONGITUDE</th>\n",
              "      <th>CCBASIC</th>\n",
              "      <th>CCUGPROF</th>\n",
              "      <th>CCSIZSET</th>\n",
              "      <th>HBCU</th>\n",
              "      <th>PBI</th>\n",
              "      <th>ANNHI</th>\n",
              "      <th>TRIBAL</th>\n",
              "      <th>AANAPII</th>\n",
              "      <th>HSI</th>\n",
              "      <th>NANTI</th>\n",
              "      <th>MENONLY</th>\n",
              "      <th>WOMENONLY</th>\n",
              "      <th>RELAFFIL</th>\n",
              "      <th>ADM_RATE</th>\n",
              "      <th>ADM_RATE_ALL</th>\n",
              "      <th>SATVR25</th>\n",
              "      <th>SATVR75</th>\n",
              "      <th>...</th>\n",
              "      <th>OMENRAP_NOTFIRSTTIME</th>\n",
              "      <th>OMAWDP8_NOTFIRSTTIME</th>\n",
              "      <th>OMENRUP_NOTFIRSTTIME</th>\n",
              "      <th>OMENRYP_FULLTIME</th>\n",
              "      <th>OMENRAP_FULLTIME</th>\n",
              "      <th>OMAWDP8_FULLTIME</th>\n",
              "      <th>OMENRUP_FULLTIME</th>\n",
              "      <th>OMENRYP_PARTTIME</th>\n",
              "      <th>OMENRAP_PARTTIME</th>\n",
              "      <th>OMAWDP8_PARTTIME</th>\n",
              "      <th>OMENRUP_PARTTIME</th>\n",
              "      <th>OMENRYP_ALL_POOLED_SUPP</th>\n",
              "      <th>OMENRAP_ALL_POOLED_SUPP</th>\n",
              "      <th>OMAWDP8_ALL_POOLED_SUPP</th>\n",
              "      <th>OMENRUP_ALL_POOLED_SUPP</th>\n",
              "      <th>OMENRYP_FIRSTTIME_POOLED_SUPP</th>\n",
              "      <th>OMENRAP_FIRSTTIME_POOLED_SUPP</th>\n",
              "      <th>OMAWDP8_FIRSTTIME_POOLED_SUPP</th>\n",
              "      <th>OMENRUP_FIRSTTIME_POOLED_SUPP</th>\n",
              "      <th>OMENRYP_NOTFIRSTTIME_POOLED_SUPP</th>\n",
              "      <th>OMENRAP_NOTFIRSTTIME_POOLED_SUPP</th>\n",
              "      <th>OMAWDP8_NOTFIRSTTIME_POOLED_SUPP</th>\n",
              "      <th>OMENRUP_NOTFIRSTTIME_POOLED_SUPP</th>\n",
              "      <th>OMENRYP_FULLTIME_POOLED_SUPP</th>\n",
              "      <th>OMENRAP_FULLTIME_POOLED_SUPP</th>\n",
              "      <th>OMAWDP8_FULLTIME_POOLED_SUPP</th>\n",
              "      <th>OMENRUP_FULLTIME_POOLED_SUPP</th>\n",
              "      <th>OMENRYP_PARTTIME_POOLED_SUPP</th>\n",
              "      <th>OMENRAP_PARTTIME_POOLED_SUPP</th>\n",
              "      <th>OMAWDP8_PARTTIME_POOLED_SUPP</th>\n",
              "      <th>OMENRUP_PARTTIME_POOLED_SUPP</th>\n",
              "      <th>FTFTPCTPELL</th>\n",
              "      <th>FTFTPCTFLOAN</th>\n",
              "      <th>UG12MN</th>\n",
              "      <th>G12MN</th>\n",
              "      <th>SCUGFFN</th>\n",
              "      <th>POOLYRS_FTFTAIDPCT</th>\n",
              "      <th>FTFTPCTPELL_POOLED_SUPP</th>\n",
              "      <th>FTFTPCTFLOAN_POOLED_SUPP</th>\n",
              "      <th>SCUGFFN_POOLED</th>\n",
              "    </tr>\n",
              "  </thead>\n",
              "  <tbody>\n",
              "    <tr>\n",
              "      <th>0</th>\n",
              "      <td>100654</td>\n",
              "      <td>100200</td>\n",
              "      <td>1002</td>\n",
              "      <td>Alabama A &amp; M University</td>\n",
              "      <td>Normal</td>\n",
              "      <td>AL</td>\n",
              "      <td>35762</td>\n",
              "      <td>Southern Association of Colleges and Schools C...</td>\n",
              "      <td>www.aamu.edu/</td>\n",
              "      <td>www.aamu.edu/admissions-aid/tuition-fees/net-p...</td>\n",
              "      <td>3.0</td>\n",
              "      <td>0</td>\n",
              "      <td>1</td>\n",
              "      <td>1</td>\n",
              "      <td>3</td>\n",
              "      <td>4</td>\n",
              "      <td>1</td>\n",
              "      <td>1</td>\n",
              "      <td>5</td>\n",
              "      <td>12.0</td>\n",
              "      <td>NaN</td>\n",
              "      <td>34.783368</td>\n",
              "      <td>-86.568502</td>\n",
              "      <td>18.0</td>\n",
              "      <td>10.0</td>\n",
              "      <td>14.0</td>\n",
              "      <td>1.0</td>\n",
              "      <td>0.0</td>\n",
              "      <td>0.0</td>\n",
              "      <td>0.0</td>\n",
              "      <td>0.0</td>\n",
              "      <td>0.0</td>\n",
              "      <td>0.0</td>\n",
              "      <td>0.0</td>\n",
              "      <td>0.0</td>\n",
              "      <td>NaN</td>\n",
              "      <td>0.8986</td>\n",
              "      <td>0.8986</td>\n",
              "      <td>430.0</td>\n",
              "      <td>520.0</td>\n",
              "      <td>...</td>\n",
              "      <td>0.3298</td>\n",
              "      <td>0.4539</td>\n",
              "      <td>0.2128</td>\n",
              "      <td>0.0153</td>\n",
              "      <td>0.3850</td>\n",
              "      <td>0.3624</td>\n",
              "      <td>0.2373</td>\n",
              "      <td>0.0104</td>\n",
              "      <td>0.4531</td>\n",
              "      <td>0.1302</td>\n",
              "      <td>0.4063</td>\n",
              "      <td>0.0208</td>\n",
              "      <td>0.4001</td>\n",
              "      <td>0.3433</td>\n",
              "      <td>0.2359</td>\n",
              "      <td>0.0243</td>\n",
              "      <td>0.4167</td>\n",
              "      <td>0.3174</td>\n",
              "      <td>0.2415</td>\n",
              "      <td>0.0103</td>\n",
              "      <td>0.3505</td>\n",
              "      <td>0.4201</td>\n",
              "      <td>0.2191</td>\n",
              "      <td>0.0205</td>\n",
              "      <td>0.3911</td>\n",
              "      <td>0.3668</td>\n",
              "      <td>0.2216</td>\n",
              "      <td>0.0222</td>\n",
              "      <td>0.4523</td>\n",
              "      <td>0.2062</td>\n",
              "      <td>0.3193</td>\n",
              "      <td>0.7057</td>\n",
              "      <td>0.7143</td>\n",
              "      <td>5343.0</td>\n",
              "      <td>1165.0</td>\n",
              "      <td>1288.0</td>\n",
              "      <td>2.0</td>\n",
              "      <td>0.7083</td>\n",
              "      <td>0.7287</td>\n",
              "      <td>2698.0</td>\n",
              "    </tr>\n",
              "    <tr>\n",
              "      <th>1</th>\n",
              "      <td>100663</td>\n",
              "      <td>105200</td>\n",
              "      <td>1052</td>\n",
              "      <td>University of Alabama at Birmingham</td>\n",
              "      <td>Birmingham</td>\n",
              "      <td>AL</td>\n",
              "      <td>35294-0110</td>\n",
              "      <td>Southern Association of Colleges and Schools C...</td>\n",
              "      <td>https://www.uab.edu</td>\n",
              "      <td>https://uab.studentaidcalculator.com/survey.aspx</td>\n",
              "      <td>3.0</td>\n",
              "      <td>0</td>\n",
              "      <td>1</td>\n",
              "      <td>1</td>\n",
              "      <td>3</td>\n",
              "      <td>4</td>\n",
              "      <td>1</td>\n",
              "      <td>1</td>\n",
              "      <td>5</td>\n",
              "      <td>12.0</td>\n",
              "      <td>NaN</td>\n",
              "      <td>33.505697</td>\n",
              "      <td>-86.799345</td>\n",
              "      <td>15.0</td>\n",
              "      <td>9.0</td>\n",
              "      <td>15.0</td>\n",
              "      <td>0.0</td>\n",
              "      <td>0.0</td>\n",
              "      <td>0.0</td>\n",
              "      <td>0.0</td>\n",
              "      <td>0.0</td>\n",
              "      <td>0.0</td>\n",
              "      <td>0.0</td>\n",
              "      <td>0.0</td>\n",
              "      <td>0.0</td>\n",
              "      <td>NaN</td>\n",
              "      <td>0.9211</td>\n",
              "      <td>0.9211</td>\n",
              "      <td>490.0</td>\n",
              "      <td>620.0</td>\n",
              "      <td>...</td>\n",
              "      <td>0.1928</td>\n",
              "      <td>0.5438</td>\n",
              "      <td>0.2523</td>\n",
              "      <td>0.0113</td>\n",
              "      <td>0.2225</td>\n",
              "      <td>0.5706</td>\n",
              "      <td>0.1956</td>\n",
              "      <td>0.0198</td>\n",
              "      <td>0.2129</td>\n",
              "      <td>0.4323</td>\n",
              "      <td>0.3350</td>\n",
              "      <td>0.0675</td>\n",
              "      <td>0.2424</td>\n",
              "      <td>0.5452</td>\n",
              "      <td>0.1448</td>\n",
              "      <td>0.07</td>\n",
              "      <td>0.262</td>\n",
              "      <td>0.5541</td>\n",
              "      <td>0.1138</td>\n",
              "      <td>0.0651</td>\n",
              "      <td>0.2237</td>\n",
              "      <td>0.5367</td>\n",
              "      <td>0.1744</td>\n",
              "      <td>0.0615</td>\n",
              "      <td>0.2434</td>\n",
              "      <td>0.5713</td>\n",
              "      <td>0.1237</td>\n",
              "      <td>0.0969</td>\n",
              "      <td>0.2377</td>\n",
              "      <td>0.4179</td>\n",
              "      <td>0.2475</td>\n",
              "      <td>0.3788</td>\n",
              "      <td>0.5350</td>\n",
              "      <td>14445.0</td>\n",
              "      <td>10498.0</td>\n",
              "      <td>2228.0</td>\n",
              "      <td>2.0</td>\n",
              "      <td>0.3891</td>\n",
              "      <td>0.5414</td>\n",
              "      <td>4176.0</td>\n",
              "    </tr>\n",
              "    <tr>\n",
              "      <th>2</th>\n",
              "      <td>100690</td>\n",
              "      <td>2503400</td>\n",
              "      <td>25034</td>\n",
              "      <td>Amridge University</td>\n",
              "      <td>Montgomery</td>\n",
              "      <td>AL</td>\n",
              "      <td>36117-3553</td>\n",
              "      <td>Southern Association of Colleges and Schools C...</td>\n",
              "      <td>www.amridgeuniversity.edu</td>\n",
              "      <td>www2.amridgeuniversity.edu:9091/</td>\n",
              "      <td>3.0</td>\n",
              "      <td>0</td>\n",
              "      <td>1</td>\n",
              "      <td>1</td>\n",
              "      <td>3</td>\n",
              "      <td>4</td>\n",
              "      <td>2</td>\n",
              "      <td>1</td>\n",
              "      <td>5</td>\n",
              "      <td>12.0</td>\n",
              "      <td>NaN</td>\n",
              "      <td>32.362609</td>\n",
              "      <td>-86.174010</td>\n",
              "      <td>20.0</td>\n",
              "      <td>5.0</td>\n",
              "      <td>6.0</td>\n",
              "      <td>0.0</td>\n",
              "      <td>1.0</td>\n",
              "      <td>0.0</td>\n",
              "      <td>0.0</td>\n",
              "      <td>0.0</td>\n",
              "      <td>0.0</td>\n",
              "      <td>0.0</td>\n",
              "      <td>0.0</td>\n",
              "      <td>0.0</td>\n",
              "      <td>74.0</td>\n",
              "      <td>NaN</td>\n",
              "      <td>NaN</td>\n",
              "      <td>NaN</td>\n",
              "      <td>NaN</td>\n",
              "      <td>...</td>\n",
              "      <td>0.0000</td>\n",
              "      <td>0.3043</td>\n",
              "      <td>0.6957</td>\n",
              "      <td>0.0000</td>\n",
              "      <td>0.0000</td>\n",
              "      <td>0.3607</td>\n",
              "      <td>0.6393</td>\n",
              "      <td>0.0000</td>\n",
              "      <td>0.0000</td>\n",
              "      <td>0.5000</td>\n",
              "      <td>0.5000</td>\n",
              "      <td>0.0109</td>\n",
              "      <td>0.1766</td>\n",
              "      <td>0.3995</td>\n",
              "      <td>0.413</td>\n",
              "      <td>0.0333</td>\n",
              "      <td>0.4</td>\n",
              "      <td>0.3667</td>\n",
              "      <td>0.2</td>\n",
              "      <td>0.0118</td>\n",
              "      <td>0.177</td>\n",
              "      <td>0.3835</td>\n",
              "      <td>0.4277</td>\n",
              "      <td>0.0066</td>\n",
              "      <td>0.1661</td>\n",
              "      <td>0.3854</td>\n",
              "      <td>0.4419</td>\n",
              "      <td>0.0299</td>\n",
              "      <td>0.2239</td>\n",
              "      <td>0.4627</td>\n",
              "      <td>0.2836</td>\n",
              "      <td>1.0000</td>\n",
              "      <td>1.0000</td>\n",
              "      <td>440.0</td>\n",
              "      <td>527.0</td>\n",
              "      <td>5.0</td>\n",
              "      <td>4.0</td>\n",
              "      <td>PrivacySuppressed</td>\n",
              "      <td>PrivacySuppressed</td>\n",
              "      <td>24.0</td>\n",
              "    </tr>\n",
              "    <tr>\n",
              "      <th>3</th>\n",
              "      <td>100706</td>\n",
              "      <td>105500</td>\n",
              "      <td>1055</td>\n",
              "      <td>University of Alabama in Huntsville</td>\n",
              "      <td>Huntsville</td>\n",
              "      <td>AL</td>\n",
              "      <td>35899</td>\n",
              "      <td>Southern Association of Colleges and Schools C...</td>\n",
              "      <td>www.uah.edu</td>\n",
              "      <td>finaid.uah.edu/</td>\n",
              "      <td>3.0</td>\n",
              "      <td>0</td>\n",
              "      <td>1</td>\n",
              "      <td>1</td>\n",
              "      <td>3</td>\n",
              "      <td>4</td>\n",
              "      <td>1</td>\n",
              "      <td>1</td>\n",
              "      <td>5</td>\n",
              "      <td>12.0</td>\n",
              "      <td>NaN</td>\n",
              "      <td>34.724557</td>\n",
              "      <td>-86.640449</td>\n",
              "      <td>16.0</td>\n",
              "      <td>15.0</td>\n",
              "      <td>12.0</td>\n",
              "      <td>0.0</td>\n",
              "      <td>0.0</td>\n",
              "      <td>0.0</td>\n",
              "      <td>0.0</td>\n",
              "      <td>0.0</td>\n",
              "      <td>0.0</td>\n",
              "      <td>0.0</td>\n",
              "      <td>0.0</td>\n",
              "      <td>0.0</td>\n",
              "      <td>NaN</td>\n",
              "      <td>0.8087</td>\n",
              "      <td>0.8087</td>\n",
              "      <td>560.0</td>\n",
              "      <td>700.0</td>\n",
              "      <td>...</td>\n",
              "      <td>0.2882</td>\n",
              "      <td>0.5048</td>\n",
              "      <td>0.1878</td>\n",
              "      <td>0.0160</td>\n",
              "      <td>0.2859</td>\n",
              "      <td>0.5384</td>\n",
              "      <td>0.1597</td>\n",
              "      <td>0.0414</td>\n",
              "      <td>0.4034</td>\n",
              "      <td>0.3138</td>\n",
              "      <td>0.2414</td>\n",
              "      <td>0.0185</td>\n",
              "      <td>0.3115</td>\n",
              "      <td>0.5065</td>\n",
              "      <td>0.1635</td>\n",
              "      <td>0.0235</td>\n",
              "      <td>0.3351</td>\n",
              "      <td>0.501</td>\n",
              "      <td>0.1404</td>\n",
              "      <td>0.0145</td>\n",
              "      <td>0.2929</td>\n",
              "      <td>0.5108</td>\n",
              "      <td>0.1818</td>\n",
              "      <td>0.0161</td>\n",
              "      <td>0.2958</td>\n",
              "      <td>0.5432</td>\n",
              "      <td>0.1449</td>\n",
              "      <td>0.0292</td>\n",
              "      <td>0.3841</td>\n",
              "      <td>0.3371</td>\n",
              "      <td>0.2496</td>\n",
              "      <td>0.2707</td>\n",
              "      <td>0.4556</td>\n",
              "      <td>8145.0</td>\n",
              "      <td>2443.0</td>\n",
              "      <td>1341.0</td>\n",
              "      <td>2.0</td>\n",
              "      <td>0.2378</td>\n",
              "      <td>0.4402</td>\n",
              "      <td>2544.0</td>\n",
              "    </tr>\n",
              "    <tr>\n",
              "      <th>4</th>\n",
              "      <td>100724</td>\n",
              "      <td>100500</td>\n",
              "      <td>1005</td>\n",
              "      <td>Alabama State University</td>\n",
              "      <td>Montgomery</td>\n",
              "      <td>AL</td>\n",
              "      <td>36104-0271</td>\n",
              "      <td>Southern Association of Colleges and Schools C...</td>\n",
              "      <td>www.alasu.edu</td>\n",
              "      <td>www.alasu.edu/cost-aid/tuition-costs/net-price...</td>\n",
              "      <td>3.0</td>\n",
              "      <td>0</td>\n",
              "      <td>1</td>\n",
              "      <td>1</td>\n",
              "      <td>3</td>\n",
              "      <td>4</td>\n",
              "      <td>1</td>\n",
              "      <td>1</td>\n",
              "      <td>5</td>\n",
              "      <td>12.0</td>\n",
              "      <td>NaN</td>\n",
              "      <td>32.364317</td>\n",
              "      <td>-86.295677</td>\n",
              "      <td>19.0</td>\n",
              "      <td>10.0</td>\n",
              "      <td>14.0</td>\n",
              "      <td>1.0</td>\n",
              "      <td>0.0</td>\n",
              "      <td>0.0</td>\n",
              "      <td>0.0</td>\n",
              "      <td>0.0</td>\n",
              "      <td>0.0</td>\n",
              "      <td>0.0</td>\n",
              "      <td>0.0</td>\n",
              "      <td>0.0</td>\n",
              "      <td>NaN</td>\n",
              "      <td>0.9774</td>\n",
              "      <td>0.9774</td>\n",
              "      <td>440.0</td>\n",
              "      <td>520.0</td>\n",
              "      <td>...</td>\n",
              "      <td>0.3647</td>\n",
              "      <td>0.4294</td>\n",
              "      <td>0.1941</td>\n",
              "      <td>0.0133</td>\n",
              "      <td>0.4187</td>\n",
              "      <td>0.2994</td>\n",
              "      <td>0.2687</td>\n",
              "      <td>0.0889</td>\n",
              "      <td>0.3556</td>\n",
              "      <td>0.2444</td>\n",
              "      <td>0.3111</td>\n",
              "      <td>0.0259</td>\n",
              "      <td>0.4635</td>\n",
              "      <td>0.308</td>\n",
              "      <td>0.2026</td>\n",
              "      <td>0.026</td>\n",
              "      <td>0.4695</td>\n",
              "      <td>0.2764</td>\n",
              "      <td>0.2281</td>\n",
              "      <td>0.0254</td>\n",
              "      <td>0.4406</td>\n",
              "      <td>0.4295</td>\n",
              "      <td>0.1046</td>\n",
              "      <td>0.0251</td>\n",
              "      <td>0.4631</td>\n",
              "      <td>0.3113</td>\n",
              "      <td>0.2005</td>\n",
              "      <td>0.0485</td>\n",
              "      <td>0.4757</td>\n",
              "      <td>0.2136</td>\n",
              "      <td>0.2621</td>\n",
              "      <td>0.7792</td>\n",
              "      <td>0.7539</td>\n",
              "      <td>4732.0</td>\n",
              "      <td>642.0</td>\n",
              "      <td>951.0</td>\n",
              "      <td>2.0</td>\n",
              "      <td>0.7684</td>\n",
              "      <td>0.7464</td>\n",
              "      <td>2094.0</td>\n",
              "    </tr>\n",
              "  </tbody>\n",
              "</table>\n",
              "<p>5 rows × 1986 columns</p>\n",
              "</div>"
            ],
            "text/plain": [
              "   UNITID    OPEID  ...  FTFTPCTFLOAN_POOLED_SUPP SCUGFFN_POOLED\n",
              "0  100654   100200  ...                    0.7287         2698.0\n",
              "1  100663   105200  ...                    0.5414         4176.0\n",
              "2  100690  2503400  ...         PrivacySuppressed           24.0\n",
              "3  100706   105500  ...                    0.4402         2544.0\n",
              "4  100724   100500  ...                    0.7464         2094.0\n",
              "\n",
              "[5 rows x 1986 columns]"
            ]
          },
          "metadata": {
            "tags": []
          },
          "execution_count": 12
        }
      ]
    },
    {
      "cell_type": "code",
      "metadata": {
        "colab": {
          "base_uri": "https://localhost:8080/"
        },
        "id": "bcCYslTzSKA1",
        "outputId": "0afaaf2b-c288-4f6d-c641-0e49561643f4"
      },
      "source": [
        "SchoolDF.shape"
      ],
      "execution_count": null,
      "outputs": [
        {
          "output_type": "execute_result",
          "data": {
            "text/plain": [
              "(6806, 1986)"
            ]
          },
          "metadata": {
            "tags": []
          },
          "execution_count": 13
        }
      ]
    },
    {
      "cell_type": "code",
      "metadata": {
        "id": "oD3-Vu8nSiLW"
      },
      "source": [
        "SchoolDF_sub = SchoolDF[['INSTNM', 'STABBR', 'CONTROL', 'HIGHDEG', \n",
        "                                    'PCIP11', 'COSTT4_A', 'COSTT4_P', \n",
        "                                    'UGDS', 'UGDS_WOMEN', 'UGDS_NRA', 'AGE_ENTRY', 'COMP_ORIG_YR4_RT',\n",
        "                                    'MEDIAN_HH_INC', 'PCTFLOAN', 'MD_EARN_WNE_P8', 'GRAD_DEBT_MDN', 'CDR3', 'COMPL_RPY_3YR_RT']]"
      ],
      "execution_count": null,
      "outputs": []
    },
    {
      "cell_type": "code",
      "metadata": {
        "colab": {
          "base_uri": "https://localhost:8080/",
          "height": 400
        },
        "id": "zSF93kHEVkyz",
        "outputId": "7e3ad1e7-b374-4055-be84-1b12be79c0a6"
      },
      "source": [
        "SchoolDF_sub.head()"
      ],
      "execution_count": null,
      "outputs": [
        {
          "output_type": "execute_result",
          "data": {
            "text/html": [
              "<div>\n",
              "<style scoped>\n",
              "    .dataframe tbody tr th:only-of-type {\n",
              "        vertical-align: middle;\n",
              "    }\n",
              "\n",
              "    .dataframe tbody tr th {\n",
              "        vertical-align: top;\n",
              "    }\n",
              "\n",
              "    .dataframe thead th {\n",
              "        text-align: right;\n",
              "    }\n",
              "</style>\n",
              "<table border=\"1\" class=\"dataframe\">\n",
              "  <thead>\n",
              "    <tr style=\"text-align: right;\">\n",
              "      <th></th>\n",
              "      <th>INSTNM</th>\n",
              "      <th>STABBR</th>\n",
              "      <th>CONTROL</th>\n",
              "      <th>HIGHDEG</th>\n",
              "      <th>PCIP11</th>\n",
              "      <th>COSTT4_A</th>\n",
              "      <th>COSTT4_P</th>\n",
              "      <th>UGDS</th>\n",
              "      <th>UGDS_WOMEN</th>\n",
              "      <th>UGDS_NRA</th>\n",
              "      <th>AGE_ENTRY</th>\n",
              "      <th>COMP_ORIG_YR4_RT</th>\n",
              "      <th>MEDIAN_HH_INC</th>\n",
              "      <th>PCTFLOAN</th>\n",
              "      <th>MD_EARN_WNE_P8</th>\n",
              "      <th>GRAD_DEBT_MDN</th>\n",
              "      <th>CDR3</th>\n",
              "      <th>COMPL_RPY_3YR_RT</th>\n",
              "    </tr>\n",
              "  </thead>\n",
              "  <tbody>\n",
              "    <tr>\n",
              "      <th>0</th>\n",
              "      <td>Alabama A &amp; M University</td>\n",
              "      <td>AL</td>\n",
              "      <td>1</td>\n",
              "      <td>4</td>\n",
              "      <td>0.0592</td>\n",
              "      <td>22489.0</td>\n",
              "      <td>NaN</td>\n",
              "      <td>4990.0</td>\n",
              "      <td>0.5924</td>\n",
              "      <td>0.0070</td>\n",
              "      <td>20.283741368</td>\n",
              "      <td>0.190821256039</td>\n",
              "      <td>49720.22</td>\n",
              "      <td>0.7503</td>\n",
              "      <td>27100</td>\n",
              "      <td>34500</td>\n",
              "      <td>0.182</td>\n",
              "      <td>0.429326288</td>\n",
              "    </tr>\n",
              "    <tr>\n",
              "      <th>1</th>\n",
              "      <td>University of Alabama at Birmingham</td>\n",
              "      <td>AL</td>\n",
              "      <td>1</td>\n",
              "      <td>4</td>\n",
              "      <td>0.0139</td>\n",
              "      <td>24347.0</td>\n",
              "      <td>NaN</td>\n",
              "      <td>13186.0</td>\n",
              "      <td>0.6070</td>\n",
              "      <td>0.0213</td>\n",
              "      <td>23.60797466</td>\n",
              "      <td>0.453967065868</td>\n",
              "      <td>55735.22</td>\n",
              "      <td>0.5127</td>\n",
              "      <td>38300</td>\n",
              "      <td>22500</td>\n",
              "      <td>0.057</td>\n",
              "      <td>0.6182700794</td>\n",
              "    </tr>\n",
              "    <tr>\n",
              "      <th>2</th>\n",
              "      <td>Amridge University</td>\n",
              "      <td>AL</td>\n",
              "      <td>2</td>\n",
              "      <td>4</td>\n",
              "      <td>0.0000</td>\n",
              "      <td>17680.0</td>\n",
              "      <td>NaN</td>\n",
              "      <td>351.0</td>\n",
              "      <td>0.6809</td>\n",
              "      <td>0.0000</td>\n",
              "      <td>33.672297297</td>\n",
              "      <td>0.117073170732</td>\n",
              "      <td>53683.7</td>\n",
              "      <td>0.8962</td>\n",
              "      <td>38300</td>\n",
              "      <td>25002</td>\n",
              "      <td>0.110</td>\n",
              "      <td>0.4390243902</td>\n",
              "    </tr>\n",
              "    <tr>\n",
              "      <th>3</th>\n",
              "      <td>University of Alabama in Huntsville</td>\n",
              "      <td>AL</td>\n",
              "      <td>1</td>\n",
              "      <td>4</td>\n",
              "      <td>0.0590</td>\n",
              "      <td>23441.0</td>\n",
              "      <td>NaN</td>\n",
              "      <td>7458.0</td>\n",
              "      <td>0.4204</td>\n",
              "      <td>0.0223</td>\n",
              "      <td>22.727919632</td>\n",
              "      <td>0.449378330373</td>\n",
              "      <td>58688.62</td>\n",
              "      <td>0.4192</td>\n",
              "      <td>41800</td>\n",
              "      <td>22021</td>\n",
              "      <td>0.059</td>\n",
              "      <td>0.680887372</td>\n",
              "    </tr>\n",
              "    <tr>\n",
              "      <th>4</th>\n",
              "      <td>Alabama State University</td>\n",
              "      <td>AL</td>\n",
              "      <td>1</td>\n",
              "      <td>4</td>\n",
              "      <td>0.0585</td>\n",
              "      <td>21476.0</td>\n",
              "      <td>NaN</td>\n",
              "      <td>3903.0</td>\n",
              "      <td>0.6290</td>\n",
              "      <td>0.0102</td>\n",
              "      <td>20.130990415</td>\n",
              "      <td>0.210443037975</td>\n",
              "      <td>46065.2</td>\n",
              "      <td>0.7845</td>\n",
              "      <td>25200</td>\n",
              "      <td>32637</td>\n",
              "      <td>0.203</td>\n",
              "      <td>0.3660377358</td>\n",
              "    </tr>\n",
              "  </tbody>\n",
              "</table>\n",
              "</div>"
            ],
            "text/plain": [
              "                                INSTNM STABBR  ...   CDR3  COMPL_RPY_3YR_RT\n",
              "0             Alabama A & M University     AL  ...  0.182       0.429326288\n",
              "1  University of Alabama at Birmingham     AL  ...  0.057      0.6182700794\n",
              "2                   Amridge University     AL  ...  0.110      0.4390243902\n",
              "3  University of Alabama in Huntsville     AL  ...  0.059       0.680887372\n",
              "4             Alabama State University     AL  ...  0.203      0.3660377358\n",
              "\n",
              "[5 rows x 18 columns]"
            ]
          },
          "metadata": {
            "tags": []
          },
          "execution_count": 15
        }
      ]
    },
    {
      "cell_type": "code",
      "metadata": {
        "id": "Lup4Iy9JXOeM"
      },
      "source": [
        "SchoolDF_sub.rename(columns={'STABBR' : 'STATE', 'PCIP11' : 'CSDEG', 'COSTT4_A' : 'COSTA', 'COSTT4_P' : 'COSTP'}, inplace=True)"
      ],
      "execution_count": null,
      "outputs": []
    },
    {
      "cell_type": "code",
      "metadata": {
        "colab": {
          "base_uri": "https://localhost:8080/",
          "height": 400
        },
        "id": "NB2M2SKvX0Co",
        "outputId": "b9d74d26-33a4-4b9c-e6e6-f42e30ef5a80"
      },
      "source": [
        "SchoolDF_sub.head()"
      ],
      "execution_count": null,
      "outputs": [
        {
          "output_type": "execute_result",
          "data": {
            "text/html": [
              "<div>\n",
              "<style scoped>\n",
              "    .dataframe tbody tr th:only-of-type {\n",
              "        vertical-align: middle;\n",
              "    }\n",
              "\n",
              "    .dataframe tbody tr th {\n",
              "        vertical-align: top;\n",
              "    }\n",
              "\n",
              "    .dataframe thead th {\n",
              "        text-align: right;\n",
              "    }\n",
              "</style>\n",
              "<table border=\"1\" class=\"dataframe\">\n",
              "  <thead>\n",
              "    <tr style=\"text-align: right;\">\n",
              "      <th></th>\n",
              "      <th>INSTNM</th>\n",
              "      <th>STATE</th>\n",
              "      <th>CONTROL</th>\n",
              "      <th>HIGHDEG</th>\n",
              "      <th>CSDEG</th>\n",
              "      <th>COSTA</th>\n",
              "      <th>COSTP</th>\n",
              "      <th>UGDS</th>\n",
              "      <th>UGDS_WOMEN</th>\n",
              "      <th>UGDS_NRA</th>\n",
              "      <th>AGE_ENTRY</th>\n",
              "      <th>COMP_ORIG_YR4_RT</th>\n",
              "      <th>MEDIAN_HH_INC</th>\n",
              "      <th>PCTFLOAN</th>\n",
              "      <th>MD_EARN_WNE_P8</th>\n",
              "      <th>GRAD_DEBT_MDN</th>\n",
              "      <th>CDR3</th>\n",
              "      <th>COMPL_RPY_3YR_RT</th>\n",
              "    </tr>\n",
              "  </thead>\n",
              "  <tbody>\n",
              "    <tr>\n",
              "      <th>0</th>\n",
              "      <td>Alabama A &amp; M University</td>\n",
              "      <td>AL</td>\n",
              "      <td>1</td>\n",
              "      <td>4</td>\n",
              "      <td>0.0592</td>\n",
              "      <td>22489.0</td>\n",
              "      <td>NaN</td>\n",
              "      <td>4990.0</td>\n",
              "      <td>0.5924</td>\n",
              "      <td>0.0070</td>\n",
              "      <td>20.283741368</td>\n",
              "      <td>0.190821256039</td>\n",
              "      <td>49720.22</td>\n",
              "      <td>0.7503</td>\n",
              "      <td>27100</td>\n",
              "      <td>34500</td>\n",
              "      <td>0.182</td>\n",
              "      <td>0.429326288</td>\n",
              "    </tr>\n",
              "    <tr>\n",
              "      <th>1</th>\n",
              "      <td>University of Alabama at Birmingham</td>\n",
              "      <td>AL</td>\n",
              "      <td>1</td>\n",
              "      <td>4</td>\n",
              "      <td>0.0139</td>\n",
              "      <td>24347.0</td>\n",
              "      <td>NaN</td>\n",
              "      <td>13186.0</td>\n",
              "      <td>0.6070</td>\n",
              "      <td>0.0213</td>\n",
              "      <td>23.60797466</td>\n",
              "      <td>0.453967065868</td>\n",
              "      <td>55735.22</td>\n",
              "      <td>0.5127</td>\n",
              "      <td>38300</td>\n",
              "      <td>22500</td>\n",
              "      <td>0.057</td>\n",
              "      <td>0.6182700794</td>\n",
              "    </tr>\n",
              "    <tr>\n",
              "      <th>2</th>\n",
              "      <td>Amridge University</td>\n",
              "      <td>AL</td>\n",
              "      <td>2</td>\n",
              "      <td>4</td>\n",
              "      <td>0.0000</td>\n",
              "      <td>17680.0</td>\n",
              "      <td>NaN</td>\n",
              "      <td>351.0</td>\n",
              "      <td>0.6809</td>\n",
              "      <td>0.0000</td>\n",
              "      <td>33.672297297</td>\n",
              "      <td>0.117073170732</td>\n",
              "      <td>53683.7</td>\n",
              "      <td>0.8962</td>\n",
              "      <td>38300</td>\n",
              "      <td>25002</td>\n",
              "      <td>0.110</td>\n",
              "      <td>0.4390243902</td>\n",
              "    </tr>\n",
              "    <tr>\n",
              "      <th>3</th>\n",
              "      <td>University of Alabama in Huntsville</td>\n",
              "      <td>AL</td>\n",
              "      <td>1</td>\n",
              "      <td>4</td>\n",
              "      <td>0.0590</td>\n",
              "      <td>23441.0</td>\n",
              "      <td>NaN</td>\n",
              "      <td>7458.0</td>\n",
              "      <td>0.4204</td>\n",
              "      <td>0.0223</td>\n",
              "      <td>22.727919632</td>\n",
              "      <td>0.449378330373</td>\n",
              "      <td>58688.62</td>\n",
              "      <td>0.4192</td>\n",
              "      <td>41800</td>\n",
              "      <td>22021</td>\n",
              "      <td>0.059</td>\n",
              "      <td>0.680887372</td>\n",
              "    </tr>\n",
              "    <tr>\n",
              "      <th>4</th>\n",
              "      <td>Alabama State University</td>\n",
              "      <td>AL</td>\n",
              "      <td>1</td>\n",
              "      <td>4</td>\n",
              "      <td>0.0585</td>\n",
              "      <td>21476.0</td>\n",
              "      <td>NaN</td>\n",
              "      <td>3903.0</td>\n",
              "      <td>0.6290</td>\n",
              "      <td>0.0102</td>\n",
              "      <td>20.130990415</td>\n",
              "      <td>0.210443037975</td>\n",
              "      <td>46065.2</td>\n",
              "      <td>0.7845</td>\n",
              "      <td>25200</td>\n",
              "      <td>32637</td>\n",
              "      <td>0.203</td>\n",
              "      <td>0.3660377358</td>\n",
              "    </tr>\n",
              "  </tbody>\n",
              "</table>\n",
              "</div>"
            ],
            "text/plain": [
              "                                INSTNM STATE  ...   CDR3  COMPL_RPY_3YR_RT\n",
              "0             Alabama A & M University    AL  ...  0.182       0.429326288\n",
              "1  University of Alabama at Birmingham    AL  ...  0.057      0.6182700794\n",
              "2                   Amridge University    AL  ...  0.110      0.4390243902\n",
              "3  University of Alabama in Huntsville    AL  ...  0.059       0.680887372\n",
              "4             Alabama State University    AL  ...  0.203      0.3660377358\n",
              "\n",
              "[5 rows x 18 columns]"
            ]
          },
          "metadata": {
            "tags": []
          },
          "execution_count": 17
        }
      ]
    },
    {
      "cell_type": "code",
      "metadata": {
        "id": "qCcXuqTQY20H"
      },
      "source": [
        "SchoolDF_sub['CONTROL'].replace({1 : 'Public', 2 : 'Private nonprofit', 3 : 'Private for-profit'}, inplace=True)"
      ],
      "execution_count": null,
      "outputs": []
    },
    {
      "cell_type": "code",
      "metadata": {
        "id": "2v7iA8B1aXnX"
      },
      "source": [
        "SchoolDF_sub['HIGHDEG'].replace({0 : \"Non-degree-granting\" , 1 : \"Certificate degree\", 2 : \"Associate degree\", 3 : \"Bachelor's degree\", 4 : \"Graduate degree\"}, inplace=True)"
      ],
      "execution_count": null,
      "outputs": []
    },
    {
      "cell_type": "code",
      "metadata": {
        "colab": {
          "base_uri": "https://localhost:8080/",
          "height": 400
        },
        "id": "UGigtJjFbFEL",
        "outputId": "70570233-2242-483e-89b5-9573c6d653f5"
      },
      "source": [
        "SchoolDF_sub.head()"
      ],
      "execution_count": null,
      "outputs": [
        {
          "output_type": "execute_result",
          "data": {
            "text/html": [
              "<div>\n",
              "<style scoped>\n",
              "    .dataframe tbody tr th:only-of-type {\n",
              "        vertical-align: middle;\n",
              "    }\n",
              "\n",
              "    .dataframe tbody tr th {\n",
              "        vertical-align: top;\n",
              "    }\n",
              "\n",
              "    .dataframe thead th {\n",
              "        text-align: right;\n",
              "    }\n",
              "</style>\n",
              "<table border=\"1\" class=\"dataframe\">\n",
              "  <thead>\n",
              "    <tr style=\"text-align: right;\">\n",
              "      <th></th>\n",
              "      <th>INSTNM</th>\n",
              "      <th>STATE</th>\n",
              "      <th>CONTROL</th>\n",
              "      <th>HIGHDEG</th>\n",
              "      <th>CSDEG</th>\n",
              "      <th>COSTA</th>\n",
              "      <th>COSTP</th>\n",
              "      <th>UGDS</th>\n",
              "      <th>UGDS_WOMEN</th>\n",
              "      <th>UGDS_NRA</th>\n",
              "      <th>AGE_ENTRY</th>\n",
              "      <th>COMP_ORIG_YR4_RT</th>\n",
              "      <th>MEDIAN_HH_INC</th>\n",
              "      <th>PCTFLOAN</th>\n",
              "      <th>MD_EARN_WNE_P8</th>\n",
              "      <th>GRAD_DEBT_MDN</th>\n",
              "      <th>CDR3</th>\n",
              "      <th>COMPL_RPY_3YR_RT</th>\n",
              "    </tr>\n",
              "  </thead>\n",
              "  <tbody>\n",
              "    <tr>\n",
              "      <th>0</th>\n",
              "      <td>Alabama A &amp; M University</td>\n",
              "      <td>AL</td>\n",
              "      <td>Public</td>\n",
              "      <td>Graduate degree</td>\n",
              "      <td>0.0592</td>\n",
              "      <td>22489.0</td>\n",
              "      <td>NaN</td>\n",
              "      <td>4990.0</td>\n",
              "      <td>0.5924</td>\n",
              "      <td>0.0070</td>\n",
              "      <td>20.283741368</td>\n",
              "      <td>0.190821256039</td>\n",
              "      <td>49720.22</td>\n",
              "      <td>0.7503</td>\n",
              "      <td>27100</td>\n",
              "      <td>34500</td>\n",
              "      <td>0.182</td>\n",
              "      <td>0.429326288</td>\n",
              "    </tr>\n",
              "    <tr>\n",
              "      <th>1</th>\n",
              "      <td>University of Alabama at Birmingham</td>\n",
              "      <td>AL</td>\n",
              "      <td>Public</td>\n",
              "      <td>Graduate degree</td>\n",
              "      <td>0.0139</td>\n",
              "      <td>24347.0</td>\n",
              "      <td>NaN</td>\n",
              "      <td>13186.0</td>\n",
              "      <td>0.6070</td>\n",
              "      <td>0.0213</td>\n",
              "      <td>23.60797466</td>\n",
              "      <td>0.453967065868</td>\n",
              "      <td>55735.22</td>\n",
              "      <td>0.5127</td>\n",
              "      <td>38300</td>\n",
              "      <td>22500</td>\n",
              "      <td>0.057</td>\n",
              "      <td>0.6182700794</td>\n",
              "    </tr>\n",
              "    <tr>\n",
              "      <th>2</th>\n",
              "      <td>Amridge University</td>\n",
              "      <td>AL</td>\n",
              "      <td>Private nonprofit</td>\n",
              "      <td>Graduate degree</td>\n",
              "      <td>0.0000</td>\n",
              "      <td>17680.0</td>\n",
              "      <td>NaN</td>\n",
              "      <td>351.0</td>\n",
              "      <td>0.6809</td>\n",
              "      <td>0.0000</td>\n",
              "      <td>33.672297297</td>\n",
              "      <td>0.117073170732</td>\n",
              "      <td>53683.7</td>\n",
              "      <td>0.8962</td>\n",
              "      <td>38300</td>\n",
              "      <td>25002</td>\n",
              "      <td>0.110</td>\n",
              "      <td>0.4390243902</td>\n",
              "    </tr>\n",
              "    <tr>\n",
              "      <th>3</th>\n",
              "      <td>University of Alabama in Huntsville</td>\n",
              "      <td>AL</td>\n",
              "      <td>Public</td>\n",
              "      <td>Graduate degree</td>\n",
              "      <td>0.0590</td>\n",
              "      <td>23441.0</td>\n",
              "      <td>NaN</td>\n",
              "      <td>7458.0</td>\n",
              "      <td>0.4204</td>\n",
              "      <td>0.0223</td>\n",
              "      <td>22.727919632</td>\n",
              "      <td>0.449378330373</td>\n",
              "      <td>58688.62</td>\n",
              "      <td>0.4192</td>\n",
              "      <td>41800</td>\n",
              "      <td>22021</td>\n",
              "      <td>0.059</td>\n",
              "      <td>0.680887372</td>\n",
              "    </tr>\n",
              "    <tr>\n",
              "      <th>4</th>\n",
              "      <td>Alabama State University</td>\n",
              "      <td>AL</td>\n",
              "      <td>Public</td>\n",
              "      <td>Graduate degree</td>\n",
              "      <td>0.0585</td>\n",
              "      <td>21476.0</td>\n",
              "      <td>NaN</td>\n",
              "      <td>3903.0</td>\n",
              "      <td>0.6290</td>\n",
              "      <td>0.0102</td>\n",
              "      <td>20.130990415</td>\n",
              "      <td>0.210443037975</td>\n",
              "      <td>46065.2</td>\n",
              "      <td>0.7845</td>\n",
              "      <td>25200</td>\n",
              "      <td>32637</td>\n",
              "      <td>0.203</td>\n",
              "      <td>0.3660377358</td>\n",
              "    </tr>\n",
              "  </tbody>\n",
              "</table>\n",
              "</div>"
            ],
            "text/plain": [
              "                                INSTNM STATE  ...   CDR3 COMPL_RPY_3YR_RT\n",
              "0             Alabama A & M University    AL  ...  0.182      0.429326288\n",
              "1  University of Alabama at Birmingham    AL  ...  0.057     0.6182700794\n",
              "2                   Amridge University    AL  ...  0.110     0.4390243902\n",
              "3  University of Alabama in Huntsville    AL  ...  0.059      0.680887372\n",
              "4             Alabama State University    AL  ...  0.203     0.3660377358\n",
              "\n",
              "[5 rows x 18 columns]"
            ]
          },
          "metadata": {
            "tags": []
          },
          "execution_count": 20
        }
      ]
    },
    {
      "cell_type": "code",
      "metadata": {
        "colab": {
          "base_uri": "https://localhost:8080/"
        },
        "id": "epF_qPsRbmmn",
        "outputId": "be3e69ed-ac80-4db7-d856-9bb451275de0"
      },
      "source": [
        "SchoolDF_sub.info()"
      ],
      "execution_count": null,
      "outputs": [
        {
          "output_type": "stream",
          "text": [
            "<class 'pandas.core.frame.DataFrame'>\n",
            "RangeIndex: 6806 entries, 0 to 6805\n",
            "Data columns (total 18 columns):\n",
            " #   Column            Non-Null Count  Dtype  \n",
            "---  ------            --------------  -----  \n",
            " 0   INSTNM            6806 non-null   object \n",
            " 1   STATE             6806 non-null   object \n",
            " 2   CONTROL           6806 non-null   object \n",
            " 3   HIGHDEG           6806 non-null   object \n",
            " 4   CSDEG             6036 non-null   float64\n",
            " 5   COSTA             3431 non-null   float64\n",
            " 6   COSTP             2175 non-null   float64\n",
            " 7   UGDS              6041 non-null   float64\n",
            " 8   UGDS_WOMEN        6041 non-null   float64\n",
            " 9   UGDS_NRA          6041 non-null   float64\n",
            " 10  AGE_ENTRY         6304 non-null   object \n",
            " 11  COMP_ORIG_YR4_RT  6415 non-null   object \n",
            " 12  MEDIAN_HH_INC     4758 non-null   object \n",
            " 13  PCTFLOAN          6014 non-null   float64\n",
            " 14  MD_EARN_WNE_P8    5503 non-null   object \n",
            " 15  GRAD_DEBT_MDN     6518 non-null   object \n",
            " 16  CDR3              5879 non-null   float64\n",
            " 17  COMPL_RPY_3YR_RT  5657 non-null   object \n",
            "dtypes: float64(8), object(10)\n",
            "memory usage: 957.2+ KB\n"
          ],
          "name": "stdout"
        }
      ]
    },
    {
      "cell_type": "code",
      "metadata": {
        "id": "owm3G9Tjd_UR"
      },
      "source": [
        "SchoolDF_sub.COSTA[(SchoolDF_sub['COSTA'].isna()) & (~SchoolDF_sub['COSTP'].isna())] = 0"
      ],
      "execution_count": null,
      "outputs": []
    },
    {
      "cell_type": "code",
      "metadata": {
        "id": "JQ-fVuTce3OE"
      },
      "source": [
        "SchoolDF_sub.COSTP[(~SchoolDF_sub['COSTA'].isna()) & (SchoolDF_sub['COSTP'].isna())] = 0"
      ],
      "execution_count": null,
      "outputs": []
    },
    {
      "cell_type": "code",
      "metadata": {
        "id": "unJcOqQ5e_6B"
      },
      "source": [
        "SchoolDF_sub['ATDCOST'] = SchoolDF_sub['COSTA'] + SchoolDF_sub['COSTP']"
      ],
      "execution_count": null,
      "outputs": []
    },
    {
      "cell_type": "code",
      "metadata": {
        "colab": {
          "base_uri": "https://localhost:8080/",
          "height": 284
        },
        "id": "goq0kPeIfhv4",
        "outputId": "96e100d5-fc90-4dfa-fc9b-9ded1314b92b"
      },
      "source": [
        "SchoolDF_sub.describe()"
      ],
      "execution_count": null,
      "outputs": [
        {
          "output_type": "execute_result",
          "data": {
            "text/html": [
              "<div>\n",
              "<style scoped>\n",
              "    .dataframe tbody tr th:only-of-type {\n",
              "        vertical-align: middle;\n",
              "    }\n",
              "\n",
              "    .dataframe tbody tr th {\n",
              "        vertical-align: top;\n",
              "    }\n",
              "\n",
              "    .dataframe thead th {\n",
              "        text-align: right;\n",
              "    }\n",
              "</style>\n",
              "<table border=\"1\" class=\"dataframe\">\n",
              "  <thead>\n",
              "    <tr style=\"text-align: right;\">\n",
              "      <th></th>\n",
              "      <th>CSDEG</th>\n",
              "      <th>COSTA</th>\n",
              "      <th>COSTP</th>\n",
              "      <th>UGDS</th>\n",
              "      <th>UGDS_WOMEN</th>\n",
              "      <th>UGDS_NRA</th>\n",
              "      <th>PCTFLOAN</th>\n",
              "      <th>CDR3</th>\n",
              "      <th>ATDCOST</th>\n",
              "    </tr>\n",
              "  </thead>\n",
              "  <tbody>\n",
              "    <tr>\n",
              "      <th>count</th>\n",
              "      <td>6036.000000</td>\n",
              "      <td>5606.000000</td>\n",
              "      <td>5606.000000</td>\n",
              "      <td>6041.000000</td>\n",
              "      <td>6041.000000</td>\n",
              "      <td>6041.000000</td>\n",
              "      <td>6014.000000</td>\n",
              "      <td>5879.000000</td>\n",
              "      <td>5606.000000</td>\n",
              "    </tr>\n",
              "    <tr>\n",
              "      <th>mean</th>\n",
              "      <td>0.023476</td>\n",
              "      <td>16498.236354</td>\n",
              "      <td>7848.567071</td>\n",
              "      <td>2522.160735</td>\n",
              "      <td>0.644250</td>\n",
              "      <td>0.021385</td>\n",
              "      <td>0.462107</td>\n",
              "      <td>0.107210</td>\n",
              "      <td>24346.803425</td>\n",
              "    </tr>\n",
              "    <tr>\n",
              "      <th>std</th>\n",
              "      <td>0.066010</td>\n",
              "      <td>18054.373922</td>\n",
              "      <td>10747.781573</td>\n",
              "      <td>5657.459316</td>\n",
              "      <td>0.244392</td>\n",
              "      <td>0.063130</td>\n",
              "      <td>0.279112</td>\n",
              "      <td>0.074038</td>\n",
              "      <td>13507.553184</td>\n",
              "    </tr>\n",
              "    <tr>\n",
              "      <th>min</th>\n",
              "      <td>0.000000</td>\n",
              "      <td>0.000000</td>\n",
              "      <td>0.000000</td>\n",
              "      <td>0.000000</td>\n",
              "      <td>0.000000</td>\n",
              "      <td>0.000000</td>\n",
              "      <td>0.000000</td>\n",
              "      <td>0.000000</td>\n",
              "      <td>1480.000000</td>\n",
              "    </tr>\n",
              "    <tr>\n",
              "      <th>25%</th>\n",
              "      <td>0.000000</td>\n",
              "      <td>0.000000</td>\n",
              "      <td>0.000000</td>\n",
              "      <td>105.000000</td>\n",
              "      <td>0.527600</td>\n",
              "      <td>0.000000</td>\n",
              "      <td>0.227700</td>\n",
              "      <td>0.049000</td>\n",
              "      <td>14751.250000</td>\n",
              "    </tr>\n",
              "    <tr>\n",
              "      <th>50%</th>\n",
              "      <td>0.000000</td>\n",
              "      <td>12684.000000</td>\n",
              "      <td>0.000000</td>\n",
              "      <td>438.000000</td>\n",
              "      <td>0.627600</td>\n",
              "      <td>0.000000</td>\n",
              "      <td>0.514900</td>\n",
              "      <td>0.096000</td>\n",
              "      <td>20742.000000</td>\n",
              "    </tr>\n",
              "    <tr>\n",
              "      <th>75%</th>\n",
              "      <td>0.026625</td>\n",
              "      <td>25776.500000</td>\n",
              "      <td>17535.750000</td>\n",
              "      <td>2117.000000</td>\n",
              "      <td>0.857100</td>\n",
              "      <td>0.017300</td>\n",
              "      <td>0.680250</td>\n",
              "      <td>0.151000</td>\n",
              "      <td>28710.750000</td>\n",
              "    </tr>\n",
              "    <tr>\n",
              "      <th>max</th>\n",
              "      <td>1.000000</td>\n",
              "      <td>96375.000000</td>\n",
              "      <td>116377.000000</td>\n",
              "      <td>88921.000000</td>\n",
              "      <td>1.000000</td>\n",
              "      <td>1.000000</td>\n",
              "      <td>1.000000</td>\n",
              "      <td>0.666000</td>\n",
              "      <td>116377.000000</td>\n",
              "    </tr>\n",
              "  </tbody>\n",
              "</table>\n",
              "</div>"
            ],
            "text/plain": [
              "             CSDEG         COSTA  ...         CDR3        ATDCOST\n",
              "count  6036.000000   5606.000000  ...  5879.000000    5606.000000\n",
              "mean      0.023476  16498.236354  ...     0.107210   24346.803425\n",
              "std       0.066010  18054.373922  ...     0.074038   13507.553184\n",
              "min       0.000000      0.000000  ...     0.000000    1480.000000\n",
              "25%       0.000000      0.000000  ...     0.049000   14751.250000\n",
              "50%       0.000000  12684.000000  ...     0.096000   20742.000000\n",
              "75%       0.026625  25776.500000  ...     0.151000   28710.750000\n",
              "max       1.000000  96375.000000  ...     0.666000  116377.000000\n",
              "\n",
              "[8 rows x 9 columns]"
            ]
          },
          "metadata": {
            "tags": []
          },
          "execution_count": 25
        }
      ]
    },
    {
      "cell_type": "code",
      "metadata": {
        "id": "xKidDFKVf4BT"
      },
      "source": [
        "SchoolDF_sub.drop(['CSDEG', 'UGDS_NRA'], 1, inplace=True)"
      ],
      "execution_count": null,
      "outputs": []
    },
    {
      "cell_type": "code",
      "metadata": {
        "colab": {
          "base_uri": "https://localhost:8080/",
          "height": 47
        },
        "id": "dsW9iXrIgCoz",
        "outputId": "7b0f65fe-4892-4ec0-ed66-0596686a468d"
      },
      "source": [
        "SchoolDF_sub[SchoolDF_sub.duplicated()]"
      ],
      "execution_count": null,
      "outputs": [
        {
          "output_type": "execute_result",
          "data": {
            "text/html": [
              "<div>\n",
              "<style scoped>\n",
              "    .dataframe tbody tr th:only-of-type {\n",
              "        vertical-align: middle;\n",
              "    }\n",
              "\n",
              "    .dataframe tbody tr th {\n",
              "        vertical-align: top;\n",
              "    }\n",
              "\n",
              "    .dataframe thead th {\n",
              "        text-align: right;\n",
              "    }\n",
              "</style>\n",
              "<table border=\"1\" class=\"dataframe\">\n",
              "  <thead>\n",
              "    <tr style=\"text-align: right;\">\n",
              "      <th></th>\n",
              "      <th>INSTNM</th>\n",
              "      <th>STATE</th>\n",
              "      <th>CONTROL</th>\n",
              "      <th>HIGHDEG</th>\n",
              "      <th>COSTA</th>\n",
              "      <th>COSTP</th>\n",
              "      <th>UGDS</th>\n",
              "      <th>UGDS_WOMEN</th>\n",
              "      <th>AGE_ENTRY</th>\n",
              "      <th>COMP_ORIG_YR4_RT</th>\n",
              "      <th>MEDIAN_HH_INC</th>\n",
              "      <th>PCTFLOAN</th>\n",
              "      <th>MD_EARN_WNE_P8</th>\n",
              "      <th>GRAD_DEBT_MDN</th>\n",
              "      <th>CDR3</th>\n",
              "      <th>COMPL_RPY_3YR_RT</th>\n",
              "      <th>ATDCOST</th>\n",
              "    </tr>\n",
              "  </thead>\n",
              "  <tbody>\n",
              "  </tbody>\n",
              "</table>\n",
              "</div>"
            ],
            "text/plain": [
              "Empty DataFrame\n",
              "Columns: [INSTNM, STATE, CONTROL, HIGHDEG, COSTA, COSTP, UGDS, UGDS_WOMEN, AGE_ENTRY, COMP_ORIG_YR4_RT, MEDIAN_HH_INC, PCTFLOAN, MD_EARN_WNE_P8, GRAD_DEBT_MDN, CDR3, COMPL_RPY_3YR_RT, ATDCOST]\n",
              "Index: []"
            ]
          },
          "metadata": {
            "tags": []
          },
          "execution_count": 27
        }
      ]
    },
    {
      "cell_type": "code",
      "metadata": {
        "id": "bkKnM7kygYKi"
      },
      "source": [
        "# SchoolDF_sub[~(SchoolDF_sub.PCTFLOAN == \"0\" & (SchoolDF_sub.GRAD_DEBT_MDN == \"PrivacySuppressed\" | SchoolDF_sub.GRAD_DEBT_MDN == \"NULL\") \n",
        "#                                         & (SchoolDF_sub.COMPL_RPY_3YR_RT == \"NULL\" | SchoolDF_sub.COMPL_RPY_3YR_RT == \"PrivacySuppressed\"))]"
      ],
      "execution_count": null,
      "outputs": []
    },
    {
      "cell_type": "code",
      "metadata": {
        "colab": {
          "base_uri": "https://localhost:8080/"
        },
        "id": "71TYv7fpBz4M",
        "outputId": "d075c244-556c-435b-b8db-9e425e80ec8e"
      },
      "source": [
        "SchoolDF_sub.shape"
      ],
      "execution_count": null,
      "outputs": [
        {
          "output_type": "execute_result",
          "data": {
            "text/plain": [
              "(6806, 17)"
            ]
          },
          "metadata": {
            "tags": []
          },
          "execution_count": 29
        }
      ]
    },
    {
      "cell_type": "code",
      "metadata": {
        "id": "7G7R5aUxhq_J"
      },
      "source": [
        "SchoolDF_sub = SchoolDF_sub[~((SchoolDF_sub['GRAD_DEBT_MDN'].isin(['PrivacySuppressed', 'NULL'])) \n",
        "  & (SchoolDF_sub['COMPL_RPY_3YR_RT'].isin(['NULL', 'PrivacySuppressed'])))]"
      ],
      "execution_count": null,
      "outputs": []
    },
    {
      "cell_type": "code",
      "metadata": {
        "colab": {
          "base_uri": "https://localhost:8080/",
          "height": 400
        },
        "id": "xlUKvlVZEGXA",
        "outputId": "f5f8ea26-89ea-44cb-ac63-4a6c43d7d4f1"
      },
      "source": [
        "SchoolDF_sub.head()"
      ],
      "execution_count": null,
      "outputs": [
        {
          "output_type": "execute_result",
          "data": {
            "text/html": [
              "<div>\n",
              "<style scoped>\n",
              "    .dataframe tbody tr th:only-of-type {\n",
              "        vertical-align: middle;\n",
              "    }\n",
              "\n",
              "    .dataframe tbody tr th {\n",
              "        vertical-align: top;\n",
              "    }\n",
              "\n",
              "    .dataframe thead th {\n",
              "        text-align: right;\n",
              "    }\n",
              "</style>\n",
              "<table border=\"1\" class=\"dataframe\">\n",
              "  <thead>\n",
              "    <tr style=\"text-align: right;\">\n",
              "      <th></th>\n",
              "      <th>INSTNM</th>\n",
              "      <th>STATE</th>\n",
              "      <th>CONTROL</th>\n",
              "      <th>HIGHDEG</th>\n",
              "      <th>COSTA</th>\n",
              "      <th>COSTP</th>\n",
              "      <th>UGDS</th>\n",
              "      <th>UGDS_WOMEN</th>\n",
              "      <th>AGE_ENTRY</th>\n",
              "      <th>COMP_ORIG_YR4_RT</th>\n",
              "      <th>MEDIAN_HH_INC</th>\n",
              "      <th>PCTFLOAN</th>\n",
              "      <th>MD_EARN_WNE_P8</th>\n",
              "      <th>GRAD_DEBT_MDN</th>\n",
              "      <th>CDR3</th>\n",
              "      <th>COMPL_RPY_3YR_RT</th>\n",
              "      <th>ATDCOST</th>\n",
              "    </tr>\n",
              "  </thead>\n",
              "  <tbody>\n",
              "    <tr>\n",
              "      <th>0</th>\n",
              "      <td>Alabama A &amp; M University</td>\n",
              "      <td>AL</td>\n",
              "      <td>Public</td>\n",
              "      <td>Graduate degree</td>\n",
              "      <td>22489.0</td>\n",
              "      <td>0.0</td>\n",
              "      <td>4990.0</td>\n",
              "      <td>0.5924</td>\n",
              "      <td>20.283741368</td>\n",
              "      <td>0.190821256039</td>\n",
              "      <td>49720.22</td>\n",
              "      <td>0.7503</td>\n",
              "      <td>27100</td>\n",
              "      <td>34500</td>\n",
              "      <td>0.182</td>\n",
              "      <td>0.429326288</td>\n",
              "      <td>22489.0</td>\n",
              "    </tr>\n",
              "    <tr>\n",
              "      <th>1</th>\n",
              "      <td>University of Alabama at Birmingham</td>\n",
              "      <td>AL</td>\n",
              "      <td>Public</td>\n",
              "      <td>Graduate degree</td>\n",
              "      <td>24347.0</td>\n",
              "      <td>0.0</td>\n",
              "      <td>13186.0</td>\n",
              "      <td>0.6070</td>\n",
              "      <td>23.60797466</td>\n",
              "      <td>0.453967065868</td>\n",
              "      <td>55735.22</td>\n",
              "      <td>0.5127</td>\n",
              "      <td>38300</td>\n",
              "      <td>22500</td>\n",
              "      <td>0.057</td>\n",
              "      <td>0.6182700794</td>\n",
              "      <td>24347.0</td>\n",
              "    </tr>\n",
              "    <tr>\n",
              "      <th>2</th>\n",
              "      <td>Amridge University</td>\n",
              "      <td>AL</td>\n",
              "      <td>Private nonprofit</td>\n",
              "      <td>Graduate degree</td>\n",
              "      <td>17680.0</td>\n",
              "      <td>0.0</td>\n",
              "      <td>351.0</td>\n",
              "      <td>0.6809</td>\n",
              "      <td>33.672297297</td>\n",
              "      <td>0.117073170732</td>\n",
              "      <td>53683.7</td>\n",
              "      <td>0.8962</td>\n",
              "      <td>38300</td>\n",
              "      <td>25002</td>\n",
              "      <td>0.110</td>\n",
              "      <td>0.4390243902</td>\n",
              "      <td>17680.0</td>\n",
              "    </tr>\n",
              "    <tr>\n",
              "      <th>3</th>\n",
              "      <td>University of Alabama in Huntsville</td>\n",
              "      <td>AL</td>\n",
              "      <td>Public</td>\n",
              "      <td>Graduate degree</td>\n",
              "      <td>23441.0</td>\n",
              "      <td>0.0</td>\n",
              "      <td>7458.0</td>\n",
              "      <td>0.4204</td>\n",
              "      <td>22.727919632</td>\n",
              "      <td>0.449378330373</td>\n",
              "      <td>58688.62</td>\n",
              "      <td>0.4192</td>\n",
              "      <td>41800</td>\n",
              "      <td>22021</td>\n",
              "      <td>0.059</td>\n",
              "      <td>0.680887372</td>\n",
              "      <td>23441.0</td>\n",
              "    </tr>\n",
              "    <tr>\n",
              "      <th>4</th>\n",
              "      <td>Alabama State University</td>\n",
              "      <td>AL</td>\n",
              "      <td>Public</td>\n",
              "      <td>Graduate degree</td>\n",
              "      <td>21476.0</td>\n",
              "      <td>0.0</td>\n",
              "      <td>3903.0</td>\n",
              "      <td>0.6290</td>\n",
              "      <td>20.130990415</td>\n",
              "      <td>0.210443037975</td>\n",
              "      <td>46065.2</td>\n",
              "      <td>0.7845</td>\n",
              "      <td>25200</td>\n",
              "      <td>32637</td>\n",
              "      <td>0.203</td>\n",
              "      <td>0.3660377358</td>\n",
              "      <td>21476.0</td>\n",
              "    </tr>\n",
              "  </tbody>\n",
              "</table>\n",
              "</div>"
            ],
            "text/plain": [
              "                                INSTNM STATE  ... COMPL_RPY_3YR_RT  ATDCOST\n",
              "0             Alabama A & M University    AL  ...      0.429326288  22489.0\n",
              "1  University of Alabama at Birmingham    AL  ...     0.6182700794  24347.0\n",
              "2                   Amridge University    AL  ...     0.4390243902  17680.0\n",
              "3  University of Alabama in Huntsville    AL  ...      0.680887372  23441.0\n",
              "4             Alabama State University    AL  ...     0.3660377358  21476.0\n",
              "\n",
              "[5 rows x 17 columns]"
            ]
          },
          "metadata": {
            "tags": []
          },
          "execution_count": 31
        }
      ]
    },
    {
      "cell_type": "code",
      "metadata": {
        "id": "3cNnKv3cgHP0"
      },
      "source": [
        "ps_count = (SchoolDF_sub == 'PrivacySuppressed').sum().reset_index().rename(columns={0 : 'count'})\n",
        "ps_count_feat = ps_count.loc[ps_count['count']>0]['index'].tolist()"
      ],
      "execution_count": null,
      "outputs": []
    },
    {
      "cell_type": "code",
      "metadata": {
        "id": "-PSamFoTKLQW"
      },
      "source": [
        "SchoolDF_sub.replace('PrivacySuppressed', 0, inplace=True)"
      ],
      "execution_count": null,
      "outputs": []
    },
    {
      "cell_type": "code",
      "metadata": {
        "id": "82CqrDsllAKv"
      },
      "source": [
        "cols = ['AGE_ENTRY', 'COMP_ORIG_YR4_RT', 'MEDIAN_HH_INC', 'MD_EARN_WNE_P8', 'GRAD_DEBT_MDN', 'COMPL_RPY_3YR_RT']\n",
        "for col in cols:\n",
        "  SchoolDF_sub[col] = pd.to_numeric(SchoolDF_sub[col])"
      ],
      "execution_count": null,
      "outputs": []
    },
    {
      "cell_type": "code",
      "metadata": {
        "id": "7idz7t8xLyfh",
        "colab": {
          "base_uri": "https://localhost:8080/",
          "height": 377
        },
        "outputId": "fee381f3-237b-4496-e3d1-5010c4e43663"
      },
      "source": [
        "SchoolDF_sub.isnull().sum().plot.bar()"
      ],
      "execution_count": null,
      "outputs": [
        {
          "output_type": "execute_result",
          "data": {
            "text/plain": [
              "<AxesSubplot:>"
            ]
          },
          "metadata": {
            "tags": []
          },
          "execution_count": 35
        },
        {
          "output_type": "display_data",
          "data": {
            "image/png": "[encoded data removed]",
            "text/plain": [
              "<Figure size 432x288 with 1 Axes>"
            ]
          },
          "metadata": {
            "tags": [],
            "needs_background": "light"
          }
        }
      ]
    },
    {
      "cell_type": "code",
      "metadata": {
        "id": "CDPBuuqsN5Ng"
      },
      "source": [
        "SchoolDF_sub['CountNA'] = SchoolDF_sub.isnull().sum(axis=1)"
      ],
      "execution_count": null,
      "outputs": []
    },
    {
      "cell_type": "code",
      "metadata": {
        "id": "dbuvgI6TPaXp"
      },
      "source": [
        "SchoolDF_sub2 = SchoolDF_sub[SchoolDF_sub['CountNA']<=5]"
      ],
      "execution_count": null,
      "outputs": []
    },
    {
      "cell_type": "code",
      "metadata": {
        "colab": {
          "base_uri": "https://localhost:8080/",
          "height": 400
        },
        "id": "g6RDuB8tRqqK",
        "outputId": "5f3ba5d7-8ba2-400c-e923-f40bbfebd7a2"
      },
      "source": [
        "SchoolDF_sub2.head()"
      ],
      "execution_count": null,
      "outputs": [
        {
          "output_type": "execute_result",
          "data": {
            "text/html": [
              "<div>\n",
              "<style scoped>\n",
              "    .dataframe tbody tr th:only-of-type {\n",
              "        vertical-align: middle;\n",
              "    }\n",
              "\n",
              "    .dataframe tbody tr th {\n",
              "        vertical-align: top;\n",
              "    }\n",
              "\n",
              "    .dataframe thead th {\n",
              "        text-align: right;\n",
              "    }\n",
              "</style>\n",
              "<table border=\"1\" class=\"dataframe\">\n",
              "  <thead>\n",
              "    <tr style=\"text-align: right;\">\n",
              "      <th></th>\n",
              "      <th>INSTNM</th>\n",
              "      <th>STATE</th>\n",
              "      <th>CONTROL</th>\n",
              "      <th>HIGHDEG</th>\n",
              "      <th>COSTA</th>\n",
              "      <th>COSTP</th>\n",
              "      <th>UGDS</th>\n",
              "      <th>UGDS_WOMEN</th>\n",
              "      <th>AGE_ENTRY</th>\n",
              "      <th>COMP_ORIG_YR4_RT</th>\n",
              "      <th>MEDIAN_HH_INC</th>\n",
              "      <th>PCTFLOAN</th>\n",
              "      <th>MD_EARN_WNE_P8</th>\n",
              "      <th>GRAD_DEBT_MDN</th>\n",
              "      <th>CDR3</th>\n",
              "      <th>COMPL_RPY_3YR_RT</th>\n",
              "      <th>ATDCOST</th>\n",
              "      <th>CountNA</th>\n",
              "    </tr>\n",
              "  </thead>\n",
              "  <tbody>\n",
              "    <tr>\n",
              "      <th>0</th>\n",
              "      <td>Alabama A &amp; M University</td>\n",
              "      <td>AL</td>\n",
              "      <td>Public</td>\n",
              "      <td>Graduate degree</td>\n",
              "      <td>22489.0</td>\n",
              "      <td>0.0</td>\n",
              "      <td>4990.0</td>\n",
              "      <td>0.5924</td>\n",
              "      <td>20.283741</td>\n",
              "      <td>0.190821</td>\n",
              "      <td>49720.22</td>\n",
              "      <td>0.7503</td>\n",
              "      <td>27100.0</td>\n",
              "      <td>34500.0</td>\n",
              "      <td>0.182</td>\n",
              "      <td>0.429326</td>\n",
              "      <td>22489.0</td>\n",
              "      <td>0</td>\n",
              "    </tr>\n",
              "    <tr>\n",
              "      <th>1</th>\n",
              "      <td>University of Alabama at Birmingham</td>\n",
              "      <td>AL</td>\n",
              "      <td>Public</td>\n",
              "      <td>Graduate degree</td>\n",
              "      <td>24347.0</td>\n",
              "      <td>0.0</td>\n",
              "      <td>13186.0</td>\n",
              "      <td>0.6070</td>\n",
              "      <td>23.607975</td>\n",
              "      <td>0.453967</td>\n",
              "      <td>55735.22</td>\n",
              "      <td>0.5127</td>\n",
              "      <td>38300.0</td>\n",
              "      <td>22500.0</td>\n",
              "      <td>0.057</td>\n",
              "      <td>0.618270</td>\n",
              "      <td>24347.0</td>\n",
              "      <td>0</td>\n",
              "    </tr>\n",
              "    <tr>\n",
              "      <th>2</th>\n",
              "      <td>Amridge University</td>\n",
              "      <td>AL</td>\n",
              "      <td>Private nonprofit</td>\n",
              "      <td>Graduate degree</td>\n",
              "      <td>17680.0</td>\n",
              "      <td>0.0</td>\n",
              "      <td>351.0</td>\n",
              "      <td>0.6809</td>\n",
              "      <td>33.672297</td>\n",
              "      <td>0.117073</td>\n",
              "      <td>53683.70</td>\n",
              "      <td>0.8962</td>\n",
              "      <td>38300.0</td>\n",
              "      <td>25002.0</td>\n",
              "      <td>0.110</td>\n",
              "      <td>0.439024</td>\n",
              "      <td>17680.0</td>\n",
              "      <td>0</td>\n",
              "    </tr>\n",
              "    <tr>\n",
              "      <th>3</th>\n",
              "      <td>University of Alabama in Huntsville</td>\n",
              "      <td>AL</td>\n",
              "      <td>Public</td>\n",
              "      <td>Graduate degree</td>\n",
              "      <td>23441.0</td>\n",
              "      <td>0.0</td>\n",
              "      <td>7458.0</td>\n",
              "      <td>0.4204</td>\n",
              "      <td>22.727920</td>\n",
              "      <td>0.449378</td>\n",
              "      <td>58688.62</td>\n",
              "      <td>0.4192</td>\n",
              "      <td>41800.0</td>\n",
              "      <td>22021.0</td>\n",
              "      <td>0.059</td>\n",
              "      <td>0.680887</td>\n",
              "      <td>23441.0</td>\n",
              "      <td>0</td>\n",
              "    </tr>\n",
              "    <tr>\n",
              "      <th>4</th>\n",
              "      <td>Alabama State University</td>\n",
              "      <td>AL</td>\n",
              "      <td>Public</td>\n",
              "      <td>Graduate degree</td>\n",
              "      <td>21476.0</td>\n",
              "      <td>0.0</td>\n",
              "      <td>3903.0</td>\n",
              "      <td>0.6290</td>\n",
              "      <td>20.130990</td>\n",
              "      <td>0.210443</td>\n",
              "      <td>46065.20</td>\n",
              "      <td>0.7845</td>\n",
              "      <td>25200.0</td>\n",
              "      <td>32637.0</td>\n",
              "      <td>0.203</td>\n",
              "      <td>0.366038</td>\n",
              "      <td>21476.0</td>\n",
              "      <td>0</td>\n",
              "    </tr>\n",
              "  </tbody>\n",
              "</table>\n",
              "</div>"
            ],
            "text/plain": [
              "                                INSTNM STATE  ...  ATDCOST CountNA\n",
              "0             Alabama A & M University    AL  ...  22489.0       0\n",
              "1  University of Alabama at Birmingham    AL  ...  24347.0       0\n",
              "2                   Amridge University    AL  ...  17680.0       0\n",
              "3  University of Alabama in Huntsville    AL  ...  23441.0       0\n",
              "4             Alabama State University    AL  ...  21476.0       0\n",
              "\n",
              "[5 rows x 18 columns]"
            ]
          },
          "metadata": {
            "tags": []
          },
          "execution_count": 38
        }
      ]
    },
    {
      "cell_type": "code",
      "metadata": {
        "colab": {
          "base_uri": "https://localhost:8080/",
          "height": 285
        },
        "id": "3RrwHAj3SyGc",
        "outputId": "c5b39987-d493-4edc-d4e6-8ad32f902438"
      },
      "source": [
        "sns.boxplot(y=SchoolDF_sub2['UGDS'])\n",
        "plt.title('Distribution of enrollment at different schools')"
      ],
      "execution_count": null,
      "outputs": [
        {
          "output_type": "execute_result",
          "data": {
            "text/plain": [
              "Text(0.5, 1.0, 'Distribution of enrollment at different schools')"
            ]
          },
          "metadata": {
            "tags": []
          },
          "execution_count": 39
        },
        {
          "output_type": "display_data",
          "data": {
            "image/png": "[encoded data removed]",
            "text/plain": [
              "<Figure size 432x288 with 1 Axes>"
            ]
          },
          "metadata": {
            "tags": [],
            "needs_background": "light"
          }
        }
      ]
    },
    {
      "cell_type": "code",
      "metadata": {
        "colab": {
          "base_uri": "https://localhost:8080/"
        },
        "id": "w9MgnSG8UD2G",
        "outputId": "3447aa3e-52e3-45f7-f9d8-81e5bc5920bd"
      },
      "source": [
        "SchoolDF_sub2['UGDS'].describe()"
      ],
      "execution_count": null,
      "outputs": [
        {
          "output_type": "execute_result",
          "data": {
            "text/plain": [
              "count     5456.000000\n",
              "mean      2742.508065\n",
              "std       5883.274393\n",
              "min          0.000000\n",
              "25%        134.000000\n",
              "50%        579.000000\n",
              "75%       2412.750000\n",
              "max      88921.000000\n",
              "Name: UGDS, dtype: float64"
            ]
          },
          "metadata": {
            "tags": []
          },
          "execution_count": 40
        }
      ]
    },
    {
      "cell_type": "code",
      "metadata": {
        "colab": {
          "base_uri": "https://localhost:8080/",
          "height": 349
        },
        "id": "SMAIzKlfUQgj",
        "outputId": "f9fb70de-e66b-4e62-ad7f-14bf7ed06f1d"
      },
      "source": [
        "plt.hist(SchoolDF_sub2['UGDS'])"
      ],
      "execution_count": null,
      "outputs": [
        {
          "output_type": "execute_result",
          "data": {
            "text/plain": [
              "(array([5.01e+03, 2.70e+02, 1.02e+02, 4.90e+01, 1.30e+01, 5.00e+00,\n",
              "        4.00e+00, 1.00e+00, 0.00e+00, 2.00e+00]),\n",
              " array([    0. ,  8892.1, 17784.2, 26676.3, 35568.4, 44460.5, 53352.6,\n",
              "        62244.7, 71136.8, 80028.9, 88921. ]),\n",
              " <BarContainer object of 10 artists>)"
            ]
          },
          "metadata": {
            "tags": []
          },
          "execution_count": 41
        },
        {
          "output_type": "display_data",
          "data": {
            "image/png": "[encoded data removed]",
            "text/plain": [
              "<Figure size 432x288 with 1 Axes>"
            ]
          },
          "metadata": {
            "tags": [],
            "needs_background": "light"
          }
        }
      ]
    },
    {
      "cell_type": "code",
      "metadata": {
        "id": "a9bmicEJUe0d"
      },
      "source": [
        "def inst_ensize(val):\n",
        "  if val <= 150:\n",
        "    return \"Very Small\"\n",
        "  elif val > 150 and val <= 500:\n",
        "    return \"Small\"\n",
        "  elif val > 500 and val <= 2500:\n",
        "    return \"Medium\"\n",
        "  elif val > 2500 and val <= 5000:\n",
        "    return \"Large\"\n",
        "  elif val > 5000:\n",
        "    return \"Very Large\""
      ],
      "execution_count": null,
      "outputs": []
    },
    {
      "cell_type": "code",
      "metadata": {
        "id": "KoQ70H0gWJjF"
      },
      "source": [
        "SchoolDF_sub2['INST_ENSIZE'] = SchoolDF_sub2.apply(lambda x: inst_ensize(x['UGDS']), axis=1)"
      ],
      "execution_count": null,
      "outputs": []
    },
    {
      "cell_type": "code",
      "metadata": {
        "colab": {
          "base_uri": "https://localhost:8080/",
          "height": 298
        },
        "id": "1r10zkOiZ_wr",
        "outputId": "fd21ccc8-df3f-41a8-dd7c-a6a35e56b12a"
      },
      "source": [
        "inst_size = SchoolDF_sub2['INST_ENSIZE'].value_counts(normalize=True).reset_index()\n",
        "sns.barplot(x='index', y='INST_ENSIZE', data=inst_size)\n",
        "plt.title('Distribution of Institutional Enrollment', fontsize=15)\n",
        "plt.xlabel('INST_ENSIZE')\n",
        "plt.ylabel('% Count')\n",
        "plt.show()"
      ],
      "execution_count": null,
      "outputs": [
        {
          "output_type": "display_data",
          "data": {
            "image/png": "[encoded data removed]",
            "text/plain": [
              "<Figure size 432x288 with 1 Axes>"
            ]
          },
          "metadata": {
            "tags": [],
            "needs_background": "light"
          }
        }
      ]
    },
    {
      "cell_type": "code",
      "metadata": {
        "id": "whDWM8xE2Hhj"
      },
      "source": [
        "df_num = SchoolDF_sub2.select_dtypes('number').drop(['CountNA'], 1)"
      ],
      "execution_count": null,
      "outputs": []
    },
    {
      "cell_type": "code",
      "metadata": {
        "colab": {
          "base_uri": "https://localhost:8080/",
          "height": 195
        },
        "id": "4Wp8CH6WkXjq",
        "outputId": "7d59937b-2367-474f-e854-6ca82bf701e3"
      },
      "source": [
        "df_num.head()"
      ],
      "execution_count": null,
      "outputs": [
        {
          "output_type": "execute_result",
          "data": {
            "text/html": [
              "<div>\n",
              "<style scoped>\n",
              "    .dataframe tbody tr th:only-of-type {\n",
              "        vertical-align: middle;\n",
              "    }\n",
              "\n",
              "    .dataframe tbody tr th {\n",
              "        vertical-align: top;\n",
              "    }\n",
              "\n",
              "    .dataframe thead th {\n",
              "        text-align: right;\n",
              "    }\n",
              "</style>\n",
              "<table border=\"1\" class=\"dataframe\">\n",
              "  <thead>\n",
              "    <tr style=\"text-align: right;\">\n",
              "      <th></th>\n",
              "      <th>COSTA</th>\n",
              "      <th>COSTP</th>\n",
              "      <th>UGDS</th>\n",
              "      <th>UGDS_WOMEN</th>\n",
              "      <th>AGE_ENTRY</th>\n",
              "      <th>COMP_ORIG_YR4_RT</th>\n",
              "      <th>MEDIAN_HH_INC</th>\n",
              "      <th>PCTFLOAN</th>\n",
              "      <th>MD_EARN_WNE_P8</th>\n",
              "      <th>GRAD_DEBT_MDN</th>\n",
              "      <th>CDR3</th>\n",
              "      <th>COMPL_RPY_3YR_RT</th>\n",
              "      <th>ATDCOST</th>\n",
              "    </tr>\n",
              "  </thead>\n",
              "  <tbody>\n",
              "    <tr>\n",
              "      <th>0</th>\n",
              "      <td>22489.0</td>\n",
              "      <td>0.0</td>\n",
              "      <td>4990.0</td>\n",
              "      <td>0.5924</td>\n",
              "      <td>20.283741</td>\n",
              "      <td>0.190821</td>\n",
              "      <td>49720.22</td>\n",
              "      <td>0.7503</td>\n",
              "      <td>27100.0</td>\n",
              "      <td>34500.0</td>\n",
              "      <td>0.182</td>\n",
              "      <td>0.429326</td>\n",
              "      <td>22489.0</td>\n",
              "    </tr>\n",
              "    <tr>\n",
              "      <th>1</th>\n",
              "      <td>24347.0</td>\n",
              "      <td>0.0</td>\n",
              "      <td>13186.0</td>\n",
              "      <td>0.6070</td>\n",
              "      <td>23.607975</td>\n",
              "      <td>0.453967</td>\n",
              "      <td>55735.22</td>\n",
              "      <td>0.5127</td>\n",
              "      <td>38300.0</td>\n",
              "      <td>22500.0</td>\n",
              "      <td>0.057</td>\n",
              "      <td>0.618270</td>\n",
              "      <td>24347.0</td>\n",
              "    </tr>\n",
              "    <tr>\n",
              "      <th>2</th>\n",
              "      <td>17680.0</td>\n",
              "      <td>0.0</td>\n",
              "      <td>351.0</td>\n",
              "      <td>0.6809</td>\n",
              "      <td>33.672297</td>\n",
              "      <td>0.117073</td>\n",
              "      <td>53683.70</td>\n",
              "      <td>0.8962</td>\n",
              "      <td>38300.0</td>\n",
              "      <td>25002.0</td>\n",
              "      <td>0.110</td>\n",
              "      <td>0.439024</td>\n",
              "      <td>17680.0</td>\n",
              "    </tr>\n",
              "    <tr>\n",
              "      <th>3</th>\n",
              "      <td>23441.0</td>\n",
              "      <td>0.0</td>\n",
              "      <td>7458.0</td>\n",
              "      <td>0.4204</td>\n",
              "      <td>22.727920</td>\n",
              "      <td>0.449378</td>\n",
              "      <td>58688.62</td>\n",
              "      <td>0.4192</td>\n",
              "      <td>41800.0</td>\n",
              "      <td>22021.0</td>\n",
              "      <td>0.059</td>\n",
              "      <td>0.680887</td>\n",
              "      <td>23441.0</td>\n",
              "    </tr>\n",
              "    <tr>\n",
              "      <th>4</th>\n",
              "      <td>21476.0</td>\n",
              "      <td>0.0</td>\n",
              "      <td>3903.0</td>\n",
              "      <td>0.6290</td>\n",
              "      <td>20.130990</td>\n",
              "      <td>0.210443</td>\n",
              "      <td>46065.20</td>\n",
              "      <td>0.7845</td>\n",
              "      <td>25200.0</td>\n",
              "      <td>32637.0</td>\n",
              "      <td>0.203</td>\n",
              "      <td>0.366038</td>\n",
              "      <td>21476.0</td>\n",
              "    </tr>\n",
              "  </tbody>\n",
              "</table>\n",
              "</div>"
            ],
            "text/plain": [
              "     COSTA  COSTP     UGDS  ...   CDR3  COMPL_RPY_3YR_RT  ATDCOST\n",
              "0  22489.0    0.0   4990.0  ...  0.182          0.429326  22489.0\n",
              "1  24347.0    0.0  13186.0  ...  0.057          0.618270  24347.0\n",
              "2  17680.0    0.0    351.0  ...  0.110          0.439024  17680.0\n",
              "3  23441.0    0.0   7458.0  ...  0.059          0.680887  23441.0\n",
              "4  21476.0    0.0   3903.0  ...  0.203          0.366038  21476.0\n",
              "\n",
              "[5 rows x 13 columns]"
            ]
          },
          "metadata": {
            "tags": []
          },
          "execution_count": 46
        }
      ]
    },
    {
      "cell_type": "code",
      "metadata": {
        "colab": {
          "base_uri": "https://localhost:8080/"
        },
        "id": "8kpTh5wOnkSi",
        "outputId": "6c129447-1eac-4188-c867-dc54edbda833"
      },
      "source": [
        "# Create kernels. \n",
        "kernel = mf.MultipleImputedKernel(\n",
        "  data=df_num,\n",
        "  save_all_iterations=True,\n",
        "  random_state=1991\n",
        ")\n",
        "\n",
        "# Run the MICE algorithm for 3 iterations on each of the datasets\n",
        "kernel.mice(3,verbose=True)"
      ],
      "execution_count": null,
      "outputs": [
        {
          "output_type": "stream",
          "text": [
            "Dataset 0\n",
            "1  | COSTA | COSTP | UGDS | UGDS_WOMEN | AGE_ENTRY | COMP_ORIG_YR4_RT | MEDIAN_HH_INC | MD_EARN_WNE_P8 | GRAD_DEBT_MDN | CDR3 | COMPL_RPY_3YR_RT | ATDCOST\n",
            "2  | COSTA | COSTP | UGDS | UGDS_WOMEN | AGE_ENTRY | COMP_ORIG_YR4_RT | MEDIAN_HH_INC | MD_EARN_WNE_P8 | GRAD_DEBT_MDN | CDR3 | COMPL_RPY_3YR_RT | ATDCOST\n",
            "3  | COSTA | COSTP | UGDS | UGDS_WOMEN | AGE_ENTRY | COMP_ORIG_YR4_RT | MEDIAN_HH_INC | MD_EARN_WNE_P8 | GRAD_DEBT_MDN | CDR3 | COMPL_RPY_3YR_RT | ATDCOST\n",
            "Dataset 1\n",
            "1  | COSTA | COSTP | UGDS | UGDS_WOMEN | AGE_ENTRY | COMP_ORIG_YR4_RT | MEDIAN_HH_INC | MD_EARN_WNE_P8 | GRAD_DEBT_MDN | CDR3 | COMPL_RPY_3YR_RT | ATDCOST\n",
            "2  | COSTA | COSTP | UGDS | UGDS_WOMEN | AGE_ENTRY | COMP_ORIG_YR4_RT | MEDIAN_HH_INC | MD_EARN_WNE_P8 | GRAD_DEBT_MDN | CDR3 | COMPL_RPY_3YR_RT | ATDCOST\n",
            "3  | COSTA | COSTP | UGDS | UGDS_WOMEN | AGE_ENTRY | COMP_ORIG_YR4_RT | MEDIAN_HH_INC | MD_EARN_WNE_P8 | GRAD_DEBT_MDN | CDR3 | COMPL_RPY_3YR_RT | ATDCOST\n",
            "Dataset 2\n",
            "1  | COSTA | COSTP | UGDS | UGDS_WOMEN | AGE_ENTRY | COMP_ORIG_YR4_RT | MEDIAN_HH_INC | MD_EARN_WNE_P8 | GRAD_DEBT_MDN | CDR3 | COMPL_RPY_3YR_RT | ATDCOST\n",
            "2  | COSTA | COSTP | UGDS | UGDS_WOMEN | AGE_ENTRY | COMP_ORIG_YR4_RT | MEDIAN_HH_INC | MD_EARN_WNE_P8 | GRAD_DEBT_MDN | CDR3 | COMPL_RPY_3YR_RT | ATDCOST\n",
            "3  | COSTA | COSTP | UGDS | UGDS_WOMEN | AGE_ENTRY | COMP_ORIG_YR4_RT | MEDIAN_HH_INC | MD_EARN_WNE_P8 | GRAD_DEBT_MDN | CDR3 | COMPL_RPY_3YR_RT | ATDCOST\n",
            "Dataset 3\n",
            "1  | COSTA | COSTP | UGDS | UGDS_WOMEN | AGE_ENTRY | COMP_ORIG_YR4_RT | MEDIAN_HH_INC | MD_EARN_WNE_P8 | GRAD_DEBT_MDN | CDR3 | COMPL_RPY_3YR_RT | ATDCOST\n",
            "2  | COSTA | COSTP | UGDS | UGDS_WOMEN | AGE_ENTRY | COMP_ORIG_YR4_RT | MEDIAN_HH_INC | MD_EARN_WNE_P8 | GRAD_DEBT_MDN | CDR3 | COMPL_RPY_3YR_RT | ATDCOST\n",
            "3  | COSTA | COSTP | UGDS | UGDS_WOMEN | AGE_ENTRY | COMP_ORIG_YR4_RT | MEDIAN_HH_INC | MD_EARN_WNE_P8 | GRAD_DEBT_MDN | CDR3 | COMPL_RPY_3YR_RT | ATDCOST\n",
            "Dataset 4\n",
            "1  | COSTA | COSTP | UGDS | UGDS_WOMEN | AGE_ENTRY | COMP_ORIG_YR4_RT | MEDIAN_HH_INC | MD_EARN_WNE_P8 | GRAD_DEBT_MDN | CDR3 | COMPL_RPY_3YR_RT | ATDCOST\n",
            "2  | COSTA | COSTP | UGDS | UGDS_WOMEN | AGE_ENTRY | COMP_ORIG_YR4_RT | MEDIAN_HH_INC | MD_EARN_WNE_P8 | GRAD_DEBT_MDN | CDR3 | COMPL_RPY_3YR_RT | ATDCOST\n",
            "3  | COSTA | COSTP | UGDS | UGDS_WOMEN | AGE_ENTRY | COMP_ORIG_YR4_RT | MEDIAN_HH_INC | MD_EARN_WNE_P8 | GRAD_DEBT_MDN | CDR3 | COMPL_RPY_3YR_RT | ATDCOST\n"
          ],
          "name": "stdout"
        }
      ]
    },
    {
      "cell_type": "code",
      "metadata": {
        "id": "e6WMlOdp6fSE",
        "colab": {
          "base_uri": "https://localhost:8080/",
          "height": 298
        },
        "outputId": "967673d9-56b3-427a-c484-3cfc9f8bfdd8"
      },
      "source": [
        "kernel.plot_imputed_distributions()\n",
        "plt.tight_layout()"
      ],
      "execution_count": null,
      "outputs": [
        {
          "output_type": "display_data",
          "data": {
            "image/png": "[encoded data removed]",
            "text/plain": [
              "<Figure size 432x288 with 12 Axes>"
            ]
          },
          "metadata": {
            "tags": [],
            "needs_background": "light"
          }
        }
      ]
    },
    {
      "cell_type": "code",
      "metadata": {
        "id": "RWt7joPHqSa4"
      },
      "source": [
        "df_num_imputed = kernel.impute_new_data(df_num).complete_data(0)"
      ],
      "execution_count": null,
      "outputs": []
    },
    {
      "cell_type": "code",
      "metadata": {
        "id": "k76onyHG4c9h"
      },
      "source": [
        "SchoolDF_sub3 = pd.concat([SchoolDF_sub2.select_dtypes('object'), df_num_imputed], axis=1)"
      ],
      "execution_count": null,
      "outputs": []
    },
    {
      "cell_type": "code",
      "metadata": {
        "id": "Bvvv6C0gJCTh",
        "colab": {
          "base_uri": "https://localhost:8080/",
          "height": 400
        },
        "outputId": "0d512bc0-02c2-4091-ffe6-9c75b3ac1747"
      },
      "source": [
        "SchoolDF_sub3.head()"
      ],
      "execution_count": null,
      "outputs": [
        {
          "output_type": "execute_result",
          "data": {
            "text/html": [
              "<div>\n",
              "<style scoped>\n",
              "    .dataframe tbody tr th:only-of-type {\n",
              "        vertical-align: middle;\n",
              "    }\n",
              "\n",
              "    .dataframe tbody tr th {\n",
              "        vertical-align: top;\n",
              "    }\n",
              "\n",
              "    .dataframe thead th {\n",
              "        text-align: right;\n",
              "    }\n",
              "</style>\n",
              "<table border=\"1\" class=\"dataframe\">\n",
              "  <thead>\n",
              "    <tr style=\"text-align: right;\">\n",
              "      <th></th>\n",
              "      <th>INSTNM</th>\n",
              "      <th>STATE</th>\n",
              "      <th>CONTROL</th>\n",
              "      <th>HIGHDEG</th>\n",
              "      <th>INST_ENSIZE</th>\n",
              "      <th>COSTA</th>\n",
              "      <th>COSTP</th>\n",
              "      <th>UGDS</th>\n",
              "      <th>UGDS_WOMEN</th>\n",
              "      <th>AGE_ENTRY</th>\n",
              "      <th>COMP_ORIG_YR4_RT</th>\n",
              "      <th>MEDIAN_HH_INC</th>\n",
              "      <th>PCTFLOAN</th>\n",
              "      <th>MD_EARN_WNE_P8</th>\n",
              "      <th>GRAD_DEBT_MDN</th>\n",
              "      <th>CDR3</th>\n",
              "      <th>COMPL_RPY_3YR_RT</th>\n",
              "      <th>ATDCOST</th>\n",
              "    </tr>\n",
              "  </thead>\n",
              "  <tbody>\n",
              "    <tr>\n",
              "      <th>0</th>\n",
              "      <td>Alabama A &amp; M University</td>\n",
              "      <td>AL</td>\n",
              "      <td>Public</td>\n",
              "      <td>Graduate degree</td>\n",
              "      <td>Large</td>\n",
              "      <td>22489.0</td>\n",
              "      <td>0.0</td>\n",
              "      <td>4990.0</td>\n",
              "      <td>0.5924</td>\n",
              "      <td>20.283741</td>\n",
              "      <td>0.190821</td>\n",
              "      <td>49720.22</td>\n",
              "      <td>0.7503</td>\n",
              "      <td>27100.0</td>\n",
              "      <td>34500.0</td>\n",
              "      <td>0.182</td>\n",
              "      <td>0.429326</td>\n",
              "      <td>22489.0</td>\n",
              "    </tr>\n",
              "    <tr>\n",
              "      <th>1</th>\n",
              "      <td>University of Alabama at Birmingham</td>\n",
              "      <td>AL</td>\n",
              "      <td>Public</td>\n",
              "      <td>Graduate degree</td>\n",
              "      <td>Very Large</td>\n",
              "      <td>24347.0</td>\n",
              "      <td>0.0</td>\n",
              "      <td>13186.0</td>\n",
              "      <td>0.6070</td>\n",
              "      <td>23.607975</td>\n",
              "      <td>0.453967</td>\n",
              "      <td>55735.22</td>\n",
              "      <td>0.5127</td>\n",
              "      <td>38300.0</td>\n",
              "      <td>22500.0</td>\n",
              "      <td>0.057</td>\n",
              "      <td>0.618270</td>\n",
              "      <td>24347.0</td>\n",
              "    </tr>\n",
              "    <tr>\n",
              "      <th>2</th>\n",
              "      <td>Amridge University</td>\n",
              "      <td>AL</td>\n",
              "      <td>Private nonprofit</td>\n",
              "      <td>Graduate degree</td>\n",
              "      <td>Small</td>\n",
              "      <td>17680.0</td>\n",
              "      <td>0.0</td>\n",
              "      <td>351.0</td>\n",
              "      <td>0.6809</td>\n",
              "      <td>33.672297</td>\n",
              "      <td>0.117073</td>\n",
              "      <td>53683.70</td>\n",
              "      <td>0.8962</td>\n",
              "      <td>38300.0</td>\n",
              "      <td>25002.0</td>\n",
              "      <td>0.110</td>\n",
              "      <td>0.439024</td>\n",
              "      <td>17680.0</td>\n",
              "    </tr>\n",
              "    <tr>\n",
              "      <th>3</th>\n",
              "      <td>University of Alabama in Huntsville</td>\n",
              "      <td>AL</td>\n",
              "      <td>Public</td>\n",
              "      <td>Graduate degree</td>\n",
              "      <td>Very Large</td>\n",
              "      <td>23441.0</td>\n",
              "      <td>0.0</td>\n",
              "      <td>7458.0</td>\n",
              "      <td>0.4204</td>\n",
              "      <td>22.727920</td>\n",
              "      <td>0.449378</td>\n",
              "      <td>58688.62</td>\n",
              "      <td>0.4192</td>\n",
              "      <td>41800.0</td>\n",
              "      <td>22021.0</td>\n",
              "      <td>0.059</td>\n",
              "      <td>0.680887</td>\n",
              "      <td>23441.0</td>\n",
              "    </tr>\n",
              "    <tr>\n",
              "      <th>4</th>\n",
              "      <td>Alabama State University</td>\n",
              "      <td>AL</td>\n",
              "      <td>Public</td>\n",
              "      <td>Graduate degree</td>\n",
              "      <td>Large</td>\n",
              "      <td>21476.0</td>\n",
              "      <td>0.0</td>\n",
              "      <td>3903.0</td>\n",
              "      <td>0.6290</td>\n",
              "      <td>20.130990</td>\n",
              "      <td>0.210443</td>\n",
              "      <td>46065.20</td>\n",
              "      <td>0.7845</td>\n",
              "      <td>25200.0</td>\n",
              "      <td>32637.0</td>\n",
              "      <td>0.203</td>\n",
              "      <td>0.366038</td>\n",
              "      <td>21476.0</td>\n",
              "    </tr>\n",
              "  </tbody>\n",
              "</table>\n",
              "</div>"
            ],
            "text/plain": [
              "                                INSTNM STATE  ... COMPL_RPY_3YR_RT  ATDCOST\n",
              "0             Alabama A & M University    AL  ...         0.429326  22489.0\n",
              "1  University of Alabama at Birmingham    AL  ...         0.618270  24347.0\n",
              "2                   Amridge University    AL  ...         0.439024  17680.0\n",
              "3  University of Alabama in Huntsville    AL  ...         0.680887  23441.0\n",
              "4             Alabama State University    AL  ...         0.366038  21476.0\n",
              "\n",
              "[5 rows x 18 columns]"
            ]
          },
          "metadata": {
            "tags": []
          },
          "execution_count": 51
        }
      ]
    },
    {
      "cell_type": "code",
      "metadata": {
        "colab": {
          "base_uri": "https://localhost:8080/"
        },
        "id": "QguiIijmVTW4",
        "outputId": "106a9656-7903-4cb7-a1cb-a38adf959626"
      },
      "source": [
        "SchoolDF_sub3.isnull().sum()"
      ],
      "execution_count": null,
      "outputs": [
        {
          "output_type": "execute_result",
          "data": {
            "text/plain": [
              "INSTNM              0\n",
              "STATE               0\n",
              "CONTROL             0\n",
              "HIGHDEG             0\n",
              "INST_ENSIZE         1\n",
              "COSTA               0\n",
              "COSTP               0\n",
              "UGDS                0\n",
              "UGDS_WOMEN          0\n",
              "AGE_ENTRY           0\n",
              "COMP_ORIG_YR4_RT    0\n",
              "MEDIAN_HH_INC       0\n",
              "PCTFLOAN            0\n",
              "MD_EARN_WNE_P8      0\n",
              "GRAD_DEBT_MDN       0\n",
              "CDR3                0\n",
              "COMPL_RPY_3YR_RT    0\n",
              "ATDCOST             0\n",
              "dtype: int64"
            ]
          },
          "metadata": {
            "tags": []
          },
          "execution_count": 52
        }
      ]
    },
    {
      "cell_type": "code",
      "metadata": {
        "id": "oPjl4HPtVX7x"
      },
      "source": [
        "SchoolDF_sub3['INST_ENSIZE'].fillna(SchoolDF_sub3['INST_ENSIZE'].mode()[0], inplace=True)"
      ],
      "execution_count": null,
      "outputs": []
    },
    {
      "cell_type": "code",
      "metadata": {
        "colab": {
          "base_uri": "https://localhost:8080/"
        },
        "id": "Bc3eE74DVwi1",
        "outputId": "52411dbb-5c5a-4153-f40b-6816c6e08b8d"
      },
      "source": [
        "SchoolDF_sub3.isnull().sum()"
      ],
      "execution_count": null,
      "outputs": [
        {
          "output_type": "execute_result",
          "data": {
            "text/plain": [
              "INSTNM              0\n",
              "STATE               0\n",
              "CONTROL             0\n",
              "HIGHDEG             0\n",
              "INST_ENSIZE         0\n",
              "COSTA               0\n",
              "COSTP               0\n",
              "UGDS                0\n",
              "UGDS_WOMEN          0\n",
              "AGE_ENTRY           0\n",
              "COMP_ORIG_YR4_RT    0\n",
              "MEDIAN_HH_INC       0\n",
              "PCTFLOAN            0\n",
              "MD_EARN_WNE_P8      0\n",
              "GRAD_DEBT_MDN       0\n",
              "CDR3                0\n",
              "COMPL_RPY_3YR_RT    0\n",
              "ATDCOST             0\n",
              "dtype: int64"
            ]
          },
          "metadata": {
            "tags": []
          },
          "execution_count": 54
        }
      ]
    },
    {
      "cell_type": "code",
      "metadata": {
        "colab": {
          "base_uri": "https://localhost:8080/"
        },
        "id": "b4buMsimS5aI",
        "outputId": "6c9d28fd-7fb7-4488-f5ea-b1e202d2b075"
      },
      "source": [
        "SchoolDF_sub3.select_dtypes('object').apply(lambda x : x.nunique())"
      ],
      "execution_count": null,
      "outputs": [
        {
          "output_type": "execute_result",
          "data": {
            "text/plain": [
              "INSTNM         5355\n",
              "STATE            59\n",
              "CONTROL           3\n",
              "HIGHDEG           5\n",
              "INST_ENSIZE       5\n",
              "dtype: int64"
            ]
          },
          "metadata": {
            "tags": []
          },
          "execution_count": 55
        }
      ]
    },
    {
      "cell_type": "code",
      "metadata": {
        "id": "qpuKA6RQIamR"
      },
      "source": [
        "lb = LabelEncoder()"
      ],
      "execution_count": null,
      "outputs": []
    },
    {
      "cell_type": "code",
      "metadata": {
        "id": "JbW5RtDPV1Zx"
      },
      "source": [
        "for col in ['STATE', 'CONTROL', 'HIGHDEG', 'INST_ENSIZE']:\n",
        "  SchoolDF_sub3[col] = lb.fit_transform(SchoolDF_sub3[col])"
      ],
      "execution_count": null,
      "outputs": []
    },
    {
      "cell_type": "code",
      "metadata": {
        "colab": {
          "base_uri": "https://localhost:8080/",
          "height": 400
        },
        "id": "QuJogQj5an38",
        "outputId": "a1d8c221-e5d5-421d-d2bc-c9d5057d2f1a"
      },
      "source": [
        "SchoolDF_sub3.head()"
      ],
      "execution_count": null,
      "outputs": [
        {
          "output_type": "execute_result",
          "data": {
            "text/html": [
              "<div>\n",
              "<style scoped>\n",
              "    .dataframe tbody tr th:only-of-type {\n",
              "        vertical-align: middle;\n",
              "    }\n",
              "\n",
              "    .dataframe tbody tr th {\n",
              "        vertical-align: top;\n",
              "    }\n",
              "\n",
              "    .dataframe thead th {\n",
              "        text-align: right;\n",
              "    }\n",
              "</style>\n",
              "<table border=\"1\" class=\"dataframe\">\n",
              "  <thead>\n",
              "    <tr style=\"text-align: right;\">\n",
              "      <th></th>\n",
              "      <th>INSTNM</th>\n",
              "      <th>STATE</th>\n",
              "      <th>CONTROL</th>\n",
              "      <th>HIGHDEG</th>\n",
              "      <th>INST_ENSIZE</th>\n",
              "      <th>COSTA</th>\n",
              "      <th>COSTP</th>\n",
              "      <th>UGDS</th>\n",
              "      <th>UGDS_WOMEN</th>\n",
              "      <th>AGE_ENTRY</th>\n",
              "      <th>COMP_ORIG_YR4_RT</th>\n",
              "      <th>MEDIAN_HH_INC</th>\n",
              "      <th>PCTFLOAN</th>\n",
              "      <th>MD_EARN_WNE_P8</th>\n",
              "      <th>GRAD_DEBT_MDN</th>\n",
              "      <th>CDR3</th>\n",
              "      <th>COMPL_RPY_3YR_RT</th>\n",
              "      <th>ATDCOST</th>\n",
              "    </tr>\n",
              "  </thead>\n",
              "  <tbody>\n",
              "    <tr>\n",
              "      <th>0</th>\n",
              "      <td>Alabama A &amp; M University</td>\n",
              "      <td>1</td>\n",
              "      <td>2</td>\n",
              "      <td>3</td>\n",
              "      <td>0</td>\n",
              "      <td>22489.0</td>\n",
              "      <td>0.0</td>\n",
              "      <td>4990.0</td>\n",
              "      <td>0.5924</td>\n",
              "      <td>20.283741</td>\n",
              "      <td>0.190821</td>\n",
              "      <td>49720.22</td>\n",
              "      <td>0.7503</td>\n",
              "      <td>27100.0</td>\n",
              "      <td>34500.0</td>\n",
              "      <td>0.182</td>\n",
              "      <td>0.429326</td>\n",
              "      <td>22489.0</td>\n",
              "    </tr>\n",
              "    <tr>\n",
              "      <th>1</th>\n",
              "      <td>University of Alabama at Birmingham</td>\n",
              "      <td>1</td>\n",
              "      <td>2</td>\n",
              "      <td>3</td>\n",
              "      <td>3</td>\n",
              "      <td>24347.0</td>\n",
              "      <td>0.0</td>\n",
              "      <td>13186.0</td>\n",
              "      <td>0.6070</td>\n",
              "      <td>23.607975</td>\n",
              "      <td>0.453967</td>\n",
              "      <td>55735.22</td>\n",
              "      <td>0.5127</td>\n",
              "      <td>38300.0</td>\n",
              "      <td>22500.0</td>\n",
              "      <td>0.057</td>\n",
              "      <td>0.618270</td>\n",
              "      <td>24347.0</td>\n",
              "    </tr>\n",
              "    <tr>\n",
              "      <th>2</th>\n",
              "      <td>Amridge University</td>\n",
              "      <td>1</td>\n",
              "      <td>1</td>\n",
              "      <td>3</td>\n",
              "      <td>2</td>\n",
              "      <td>17680.0</td>\n",
              "      <td>0.0</td>\n",
              "      <td>351.0</td>\n",
              "      <td>0.6809</td>\n",
              "      <td>33.672297</td>\n",
              "      <td>0.117073</td>\n",
              "      <td>53683.70</td>\n",
              "      <td>0.8962</td>\n",
              "      <td>38300.0</td>\n",
              "      <td>25002.0</td>\n",
              "      <td>0.110</td>\n",
              "      <td>0.439024</td>\n",
              "      <td>17680.0</td>\n",
              "    </tr>\n",
              "    <tr>\n",
              "      <th>3</th>\n",
              "      <td>University of Alabama in Huntsville</td>\n",
              "      <td>1</td>\n",
              "      <td>2</td>\n",
              "      <td>3</td>\n",
              "      <td>3</td>\n",
              "      <td>23441.0</td>\n",
              "      <td>0.0</td>\n",
              "      <td>7458.0</td>\n",
              "      <td>0.4204</td>\n",
              "      <td>22.727920</td>\n",
              "      <td>0.449378</td>\n",
              "      <td>58688.62</td>\n",
              "      <td>0.4192</td>\n",
              "      <td>41800.0</td>\n",
              "      <td>22021.0</td>\n",
              "      <td>0.059</td>\n",
              "      <td>0.680887</td>\n",
              "      <td>23441.0</td>\n",
              "    </tr>\n",
              "    <tr>\n",
              "      <th>4</th>\n",
              "      <td>Alabama State University</td>\n",
              "      <td>1</td>\n",
              "      <td>2</td>\n",
              "      <td>3</td>\n",
              "      <td>0</td>\n",
              "      <td>21476.0</td>\n",
              "      <td>0.0</td>\n",
              "      <td>3903.0</td>\n",
              "      <td>0.6290</td>\n",
              "      <td>20.130990</td>\n",
              "      <td>0.210443</td>\n",
              "      <td>46065.20</td>\n",
              "      <td>0.7845</td>\n",
              "      <td>25200.0</td>\n",
              "      <td>32637.0</td>\n",
              "      <td>0.203</td>\n",
              "      <td>0.366038</td>\n",
              "      <td>21476.0</td>\n",
              "    </tr>\n",
              "  </tbody>\n",
              "</table>\n",
              "</div>"
            ],
            "text/plain": [
              "                                INSTNM  STATE  ...  COMPL_RPY_3YR_RT  ATDCOST\n",
              "0             Alabama A & M University      1  ...          0.429326  22489.0\n",
              "1  University of Alabama at Birmingham      1  ...          0.618270  24347.0\n",
              "2                   Amridge University      1  ...          0.439024  17680.0\n",
              "3  University of Alabama in Huntsville      1  ...          0.680887  23441.0\n",
              "4             Alabama State University      1  ...          0.366038  21476.0\n",
              "\n",
              "[5 rows x 18 columns]"
            ]
          },
          "metadata": {
            "tags": []
          },
          "execution_count": 58
        }
      ]
    },
    {
      "cell_type": "code",
      "metadata": {
        "id": "j37NioW2cRpy"
      },
      "source": [
        "SchoolDF_sub3.drop(['INSTNM', 'COSTA', 'COSTP'], axis=1, inplace=True)"
      ],
      "execution_count": null,
      "outputs": []
    },
    {
      "cell_type": "code",
      "metadata": {
        "colab": {
          "base_uri": "https://localhost:8080/",
          "height": 283
        },
        "id": "HI5ANpkSI8FG",
        "outputId": "3c96f0fd-8d1f-4596-938a-687ded9f5cdf"
      },
      "source": [
        "SchoolDF_sub3['COMPL_RPY_3YR_RT'].plot.box()"
      ],
      "execution_count": null,
      "outputs": [
        {
          "output_type": "execute_result",
          "data": {
            "text/plain": [
              "<AxesSubplot:>"
            ]
          },
          "metadata": {
            "tags": []
          },
          "execution_count": 60
        },
        {
          "output_type": "display_data",
          "data": {
            "image/png": "[encoded data removed]",
            "text/plain": [
              "<Figure size 432x288 with 1 Axes>"
            ]
          },
          "metadata": {
            "tags": [],
            "needs_background": "light"
          }
        }
      ]
    },
    {
      "cell_type": "markdown",
      "metadata": {
        "id": "_KEqpm4nd5Qe"
      },
      "source": [
        "Modelling"
      ]
    },
    {
      "cell_type": "code",
      "metadata": {
        "id": "L8jmn_2Ud8Jl"
      },
      "source": [
        "X = SchoolDF_sub3.drop('COMPL_RPY_3YR_RT', axis=1)\n",
        "y = SchoolDF_sub3['COMPL_RPY_3YR_RT']"
      ],
      "execution_count": null,
      "outputs": []
    },
    {
      "cell_type": "code",
      "metadata": {
        "id": "GqEgbYKDi4tn"
      },
      "source": [
        "X_train, X_valid, y_train, y_valid = train_test_split(X, y, test_size=0.3, random_state=1)"
      ],
      "execution_count": null,
      "outputs": []
    },
    {
      "cell_type": "code",
      "metadata": {
        "id": "Zm6KybYyjT-7"
      },
      "source": [
        "rfr = RandomForestRegressor()"
      ],
      "execution_count": null,
      "outputs": []
    },
    {
      "cell_type": "code",
      "metadata": {
        "colab": {
          "base_uri": "https://localhost:8080/"
        },
        "id": "-vj50jfIjYa9",
        "outputId": "e8a2a506-2db5-4474-f329-a7f34dcd2c1d"
      },
      "source": [
        "rfr.fit(X_train, y_train)"
      ],
      "execution_count": null,
      "outputs": [
        {
          "output_type": "execute_result",
          "data": {
            "text/plain": [
              "RandomForestRegressor(bootstrap=True, ccp_alpha=0.0, criterion='mse',\n",
              "                      max_depth=None, max_features='auto', max_leaf_nodes=None,\n",
              "                      max_samples=None, min_impurity_decrease=0.0,\n",
              "                      min_impurity_split=None, min_samples_leaf=1,\n",
              "                      min_samples_split=2, min_weight_fraction_leaf=0.0,\n",
              "                      n_estimators=100, n_jobs=None, oob_score=False,\n",
              "                      random_state=None, verbose=0, warm_start=False)"
            ]
          },
          "metadata": {
            "tags": []
          },
          "execution_count": 64
        }
      ]
    },
    {
      "cell_type": "code",
      "metadata": {
        "id": "8hyArbxikCE2"
      },
      "source": [
        "y_pred = rfr.predict(X_valid)"
      ],
      "execution_count": null,
      "outputs": []
    },
    {
      "cell_type": "code",
      "metadata": {
        "colab": {
          "base_uri": "https://localhost:8080/"
        },
        "id": "kNBo4G_8kIvK",
        "outputId": "2acf113f-97f8-4128-9d12-bf54036577db"
      },
      "source": [
        "math.sqrt(mean_squared_error(y_pred, y_valid))"
      ],
      "execution_count": null,
      "outputs": [
        {
          "output_type": "execute_result",
          "data": {
            "text/plain": [
              "0.14380870996086548"
            ]
          },
          "metadata": {
            "tags": []
          },
          "execution_count": 66
        }
      ]
    },
    {
      "cell_type": "code",
      "metadata": {
        "id": "aQBm3NV1O7Ol"
      },
      "source": [
        "imp_feat = pd.DataFrame(X.columns, rfr.feature_importances_).reset_index().rename(columns={'index':'imp', 0:'feature'})[['feature', 'imp']].sort_values(by='imp', ascending=False).head(10)"
      ],
      "execution_count": null,
      "outputs": []
    },
    {
      "cell_type": "code",
      "metadata": {
        "colab": {
          "base_uri": "https://localhost:8080/",
          "height": 343
        },
        "id": "jMewufv7OUOb",
        "outputId": "bcd1c71b-fa8b-4e34-8d32-1122e41dbf43"
      },
      "source": [
        "imp_feat"
      ],
      "execution_count": null,
      "outputs": [
        {
          "output_type": "execute_result",
          "data": {
            "text/html": [
              "<div>\n",
              "<style scoped>\n",
              "    .dataframe tbody tr th:only-of-type {\n",
              "        vertical-align: middle;\n",
              "    }\n",
              "\n",
              "    .dataframe tbody tr th {\n",
              "        vertical-align: top;\n",
              "    }\n",
              "\n",
              "    .dataframe thead th {\n",
              "        text-align: right;\n",
              "    }\n",
              "</style>\n",
              "<table border=\"1\" class=\"dataframe\">\n",
              "  <thead>\n",
              "    <tr style=\"text-align: right;\">\n",
              "      <th></th>\n",
              "      <th>feature</th>\n",
              "      <th>imp</th>\n",
              "    </tr>\n",
              "  </thead>\n",
              "  <tbody>\n",
              "    <tr>\n",
              "      <th>10</th>\n",
              "      <td>MD_EARN_WNE_P8</td>\n",
              "      <td>0.457790</td>\n",
              "    </tr>\n",
              "    <tr>\n",
              "      <th>7</th>\n",
              "      <td>COMP_ORIG_YR4_RT</td>\n",
              "      <td>0.142291</td>\n",
              "    </tr>\n",
              "    <tr>\n",
              "      <th>6</th>\n",
              "      <td>AGE_ENTRY</td>\n",
              "      <td>0.106648</td>\n",
              "    </tr>\n",
              "    <tr>\n",
              "      <th>12</th>\n",
              "      <td>CDR3</td>\n",
              "      <td>0.064839</td>\n",
              "    </tr>\n",
              "    <tr>\n",
              "      <th>4</th>\n",
              "      <td>UGDS</td>\n",
              "      <td>0.046808</td>\n",
              "    </tr>\n",
              "    <tr>\n",
              "      <th>8</th>\n",
              "      <td>MEDIAN_HH_INC</td>\n",
              "      <td>0.036310</td>\n",
              "    </tr>\n",
              "    <tr>\n",
              "      <th>11</th>\n",
              "      <td>GRAD_DEBT_MDN</td>\n",
              "      <td>0.028587</td>\n",
              "    </tr>\n",
              "    <tr>\n",
              "      <th>5</th>\n",
              "      <td>UGDS_WOMEN</td>\n",
              "      <td>0.028450</td>\n",
              "    </tr>\n",
              "    <tr>\n",
              "      <th>13</th>\n",
              "      <td>ATDCOST</td>\n",
              "      <td>0.025355</td>\n",
              "    </tr>\n",
              "    <tr>\n",
              "      <th>9</th>\n",
              "      <td>PCTFLOAN</td>\n",
              "      <td>0.024534</td>\n",
              "    </tr>\n",
              "  </tbody>\n",
              "</table>\n",
              "</div>"
            ],
            "text/plain": [
              "             feature       imp\n",
              "10    MD_EARN_WNE_P8  0.457790\n",
              "7   COMP_ORIG_YR4_RT  0.142291\n",
              "6          AGE_ENTRY  0.106648\n",
              "12              CDR3  0.064839\n",
              "4               UGDS  0.046808\n",
              "8      MEDIAN_HH_INC  0.036310\n",
              "11     GRAD_DEBT_MDN  0.028587\n",
              "5         UGDS_WOMEN  0.028450\n",
              "13           ATDCOST  0.025355\n",
              "9           PCTFLOAN  0.024534"
            ]
          },
          "metadata": {
            "tags": []
          },
          "execution_count": 68
        }
      ]
    },
    {
      "cell_type": "code",
      "metadata": {
        "id": "O13_vGfHqq5C"
      },
      "source": [
        "# pickle.dump(rfr, open('model', 'wb'))"
      ],
      "execution_count": null,
      "outputs": []
    },
    {
      "cell_type": "code",
      "metadata": {
        "id": "_YFRXNPcQD4G"
      },
      "source": [
        "X_train_imp = X_train.loc[:,imp_feat.feature.tolist()]\n",
        "X_valid_imp = X_valid.loc[:,imp_feat.feature.tolist()]"
      ],
      "execution_count": null,
      "outputs": []
    },
    {
      "cell_type": "code",
      "metadata": {
        "id": "Kz94kKJ5vTnF"
      },
      "source": [
        "rfr1 = RandomForestRegressor().fit(X_train_imp, y_train)"
      ],
      "execution_count": null,
      "outputs": []
    },
    {
      "cell_type": "code",
      "metadata": {
        "id": "3vx0U0FKvbmP"
      },
      "source": [
        "y_pred1 = rfr1.predict(X_valid_imp)"
      ],
      "execution_count": null,
      "outputs": []
    },
    {
      "cell_type": "code",
      "metadata": {
        "colab": {
          "base_uri": "https://localhost:8080/"
        },
        "id": "IHStZ1Q2vlBU",
        "outputId": "876c7a5d-28f3-4ac5-87c1-87ae8af33599"
      },
      "source": [
        "math.sqrt(mean_squared_error(y_pred1, y_valid))"
      ],
      "execution_count": null,
      "outputs": [
        {
          "output_type": "execute_result",
          "data": {
            "text/plain": [
              "0.1468700197568933"
            ]
          },
          "metadata": {
            "tags": []
          },
          "execution_count": 81
        }
      ]
    },
    {
      "cell_type": "code",
      "metadata": {
        "id": "l40Gcp9uvxCJ"
      },
      "source": [
        "pickle.dump(rfr1, open('model1.pkl', 'wb'))"
      ],
      "execution_count": null,
      "outputs": []
    }
  ]
}